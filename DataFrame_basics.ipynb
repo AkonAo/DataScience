{
 "cells": [
  {
   "cell_type": "code",
   "execution_count": 1,
   "metadata": {
    "collapsed": true
   },
   "outputs": [],
   "source": [
    "import numpy as np\n",
    "import pandas as pd"
   ]
  },
  {
   "cell_type": "code",
   "execution_count": 2,
   "metadata": {
    "collapsed": false
   },
   "outputs": [
    {
     "name": "stdout",
     "output_type": "stream",
     "text": [
      "/Users/akon.ao/Downloads\r\n"
     ]
    }
   ],
   "source": [
    "!pwd"
   ]
  },
  {
   "cell_type": "code",
   "execution_count": 3,
   "metadata": {
    "collapsed": false
   },
   "outputs": [
    {
     "name": "stdout",
     "output_type": "stream",
     "text": [
      "/Users/akon.ao/Downloads/test\n"
     ]
    }
   ],
   "source": [
    "cd test"
   ]
  },
  {
   "cell_type": "code",
   "execution_count": 4,
   "metadata": {
    "collapsed": false
   },
   "outputs": [
    {
     "name": "stdout",
     "output_type": "stream",
     "text": [
      "/Users/akon.ao/Downloads/test\r\n"
     ]
    }
   ],
   "source": [
    "!pwd"
   ]
  },
  {
   "cell_type": "code",
   "execution_count": 5,
   "metadata": {
    "collapsed": false
   },
   "outputs": [
    {
     "name": "stdout",
     "output_type": "stream",
     "text": [
      "\u001b[31mlenovo-jd-12211227-5e40d645-c0b7-4ec8-96f8-aea2159b4dbb_part-0.csv\u001b[m\u001b[m\r\n",
      "\u001b[31mlenovo-jd-12211227-5e40d645-c0b7-4ec8-96f8-aea2159b4dbb_part-1.csv\u001b[m\u001b[m\r\n"
     ]
    }
   ],
   "source": [
    "!ls"
   ]
  },
  {
   "cell_type": "code",
   "execution_count": 6,
   "metadata": {
    "collapsed": false
   },
   "outputs": [
    {
     "data": {
      "text/plain": [
       "['lenovo-jd-12211227-5e40d645-c0b7-4ec8-96f8-aea2159b4dbb_part-0.csv',\n",
       " 'lenovo-jd-12211227-5e40d645-c0b7-4ec8-96f8-aea2159b4dbb_part-1.csv']"
      ]
     },
     "execution_count": 6,
     "metadata": {},
     "output_type": "execute_result"
    }
   ],
   "source": [
    "!!ls"
   ]
  },
  {
   "cell_type": "code",
   "execution_count": 7,
   "metadata": {
    "collapsed": false
   },
   "outputs": [],
   "source": [
    "%config IPCompleter.greedy=True"
   ]
  },
  {
   "cell_type": "code",
   "execution_count": 8,
   "metadata": {
    "collapsed": false
   },
   "outputs": [
    {
     "name": "stdout",
     "output_type": "stream",
     "text": [
      "akon.ao  console  Jan 23 10:48 \r\n",
      "akon.ao  ttys000  Mar 27 17:06 \r\n"
     ]
    }
   ],
   "source": [
    "!who"
   ]
  },
  {
   "cell_type": "code",
   "execution_count": 9,
   "metadata": {
    "collapsed": false
   },
   "outputs": [
    {
     "name": "stdout",
     "output_type": "stream",
     "text": [
      "np\t pd\t \n"
     ]
    }
   ],
   "source": [
    "%who"
   ]
  },
  {
   "cell_type": "code",
   "execution_count": 10,
   "metadata": {
    "collapsed": false
   },
   "outputs": [],
   "source": [
    "import glob\n",
    "import matplotlib.pyplot as plt"
   ]
  },
  {
   "cell_type": "code",
   "execution_count": 11,
   "metadata": {
    "collapsed": false
   },
   "outputs": [
    {
     "name": "stdout",
     "output_type": "stream",
     "text": [
      "glob\t np\t pd\t plt\t \n"
     ]
    }
   ],
   "source": [
    "%who"
   ]
  },
  {
   "cell_type": "code",
   "execution_count": 12,
   "metadata": {
    "collapsed": false
   },
   "outputs": [
    {
     "name": "stdout",
     "output_type": "stream",
     "text": [
      "Variable   Type      Data/Info\n",
      "------------------------------\n",
      "glob       module    <module 'glob' from '/Use<...>/lib/python2.7/glob.pyc'>\n",
      "np         module    <module 'numpy' from '/Us<...>ages/numpy/__init__.pyc'>\n",
      "pd         module    <module 'pandas' from '/U<...>ges/pandas/__init__.pyc'>\n",
      "plt        module    <module 'matplotlib.pyplo<...>s/matplotlib/pyplot.pyc'>\n"
     ]
    }
   ],
   "source": [
    "%whos"
   ]
  },
  {
   "cell_type": "code",
   "execution_count": 13,
   "metadata": {
    "collapsed": false
   },
   "outputs": [
    {
     "data": {
      "application/json": {
       "cell": {
        "!": "OSMagics",
        "HTML": "Other",
        "SVG": "Other",
        "bash": "Other",
        "capture": "ExecutionMagics",
        "debug": "ExecutionMagics",
        "file": "Other",
        "html": "DisplayMagics",
        "javascript": "DisplayMagics",
        "js": "DisplayMagics",
        "latex": "DisplayMagics",
        "perl": "Other",
        "prun": "ExecutionMagics",
        "pypy": "Other",
        "python": "Other",
        "python2": "Other",
        "python3": "Other",
        "ruby": "Other",
        "script": "ScriptMagics",
        "sh": "Other",
        "svg": "DisplayMagics",
        "sx": "OSMagics",
        "system": "OSMagics",
        "time": "ExecutionMagics",
        "timeit": "ExecutionMagics",
        "writefile": "OSMagics"
       },
       "line": {
        "alias": "OSMagics",
        "alias_magic": "BasicMagics",
        "autocall": "AutoMagics",
        "automagic": "AutoMagics",
        "autosave": "KernelMagics",
        "bookmark": "OSMagics",
        "cat": "Other",
        "cd": "OSMagics",
        "clear": "KernelMagics",
        "colors": "BasicMagics",
        "config": "ConfigMagics",
        "connect_info": "KernelMagics",
        "cp": "Other",
        "debug": "ExecutionMagics",
        "dhist": "OSMagics",
        "dirs": "OSMagics",
        "doctest_mode": "BasicMagics",
        "ed": "Other",
        "edit": "KernelMagics",
        "env": "OSMagics",
        "gui": "BasicMagics",
        "hist": "Other",
        "history": "HistoryMagics",
        "killbgscripts": "ScriptMagics",
        "ldir": "Other",
        "less": "KernelMagics",
        "lf": "Other",
        "lk": "Other",
        "ll": "Other",
        "load": "CodeMagics",
        "load_ext": "ExtensionMagics",
        "loadpy": "CodeMagics",
        "logoff": "LoggingMagics",
        "logon": "LoggingMagics",
        "logstart": "LoggingMagics",
        "logstate": "LoggingMagics",
        "logstop": "LoggingMagics",
        "ls": "Other",
        "lsmagic": "BasicMagics",
        "lx": "Other",
        "macro": "ExecutionMagics",
        "magic": "BasicMagics",
        "man": "KernelMagics",
        "matplotlib": "PylabMagics",
        "mkdir": "Other",
        "more": "KernelMagics",
        "mv": "Other",
        "notebook": "BasicMagics",
        "page": "BasicMagics",
        "pastebin": "CodeMagics",
        "pdb": "ExecutionMagics",
        "pdef": "NamespaceMagics",
        "pdoc": "NamespaceMagics",
        "pfile": "NamespaceMagics",
        "pinfo": "NamespaceMagics",
        "pinfo2": "NamespaceMagics",
        "popd": "OSMagics",
        "pprint": "BasicMagics",
        "precision": "BasicMagics",
        "profile": "BasicMagics",
        "prun": "ExecutionMagics",
        "psearch": "NamespaceMagics",
        "psource": "NamespaceMagics",
        "pushd": "OSMagics",
        "pwd": "OSMagics",
        "pycat": "OSMagics",
        "pylab": "PylabMagics",
        "qtconsole": "KernelMagics",
        "quickref": "BasicMagics",
        "recall": "HistoryMagics",
        "rehashx": "OSMagics",
        "reload_ext": "ExtensionMagics",
        "rep": "Other",
        "rerun": "HistoryMagics",
        "reset": "NamespaceMagics",
        "reset_selective": "NamespaceMagics",
        "rm": "Other",
        "rmdir": "Other",
        "run": "ExecutionMagics",
        "save": "CodeMagics",
        "sc": "OSMagics",
        "set_env": "OSMagics",
        "store": "StoreMagics",
        "sx": "OSMagics",
        "system": "OSMagics",
        "tb": "ExecutionMagics",
        "time": "ExecutionMagics",
        "timeit": "ExecutionMagics",
        "unalias": "OSMagics",
        "unload_ext": "ExtensionMagics",
        "who": "NamespaceMagics",
        "who_ls": "NamespaceMagics",
        "whos": "NamespaceMagics",
        "xdel": "NamespaceMagics",
        "xmode": "BasicMagics"
       }
      },
      "text/plain": [
       "Available line magics:\n",
       "%alias  %alias_magic  %autocall  %automagic  %autosave  %bookmark  %cat  %cd  %clear  %colors  %config  %connect_info  %cp  %debug  %dhist  %dirs  %doctest_mode  %ed  %edit  %env  %gui  %hist  %history  %killbgscripts  %ldir  %less  %lf  %lk  %ll  %load  %load_ext  %loadpy  %logoff  %logon  %logstart  %logstate  %logstop  %ls  %lsmagic  %lx  %macro  %magic  %man  %matplotlib  %mkdir  %more  %mv  %notebook  %page  %pastebin  %pdb  %pdef  %pdoc  %pfile  %pinfo  %pinfo2  %popd  %pprint  %precision  %profile  %prun  %psearch  %psource  %pushd  %pwd  %pycat  %pylab  %qtconsole  %quickref  %recall  %rehashx  %reload_ext  %rep  %rerun  %reset  %reset_selective  %rm  %rmdir  %run  %save  %sc  %set_env  %store  %sx  %system  %tb  %time  %timeit  %unalias  %unload_ext  %who  %who_ls  %whos  %xdel  %xmode\n",
       "\n",
       "Available cell magics:\n",
       "%%!  %%HTML  %%SVG  %%bash  %%capture  %%debug  %%file  %%html  %%javascript  %%js  %%latex  %%perl  %%prun  %%pypy  %%python  %%python2  %%python3  %%ruby  %%script  %%sh  %%svg  %%sx  %%system  %%time  %%timeit  %%writefile\n",
       "\n",
       "Automagic is ON, % prefix IS NOT needed for line magics."
      ]
     },
     "execution_count": 13,
     "metadata": {},
     "output_type": "execute_result"
    }
   ],
   "source": [
    "%lsmagic"
   ]
  },
  {
   "cell_type": "code",
   "execution_count": 14,
   "metadata": {
    "collapsed": false
   },
   "outputs": [
    {
     "name": "stdout",
     "output_type": "stream",
     "text": [
      "\u001b[31mlenovo-jd-12211227-5e40d645-c0b7-4ec8-96f8-aea2159b4dbb_part-0.csv\u001b[m\u001b[m\r\n",
      "\u001b[31mlenovo-jd-12211227-5e40d645-c0b7-4ec8-96f8-aea2159b4dbb_part-1.csv\u001b[m\u001b[m\r\n"
     ]
    }
   ],
   "source": [
    "!ls"
   ]
  },
  {
   "cell_type": "code",
   "execution_count": 15,
   "metadata": {
    "collapsed": true
   },
   "outputs": [],
   "source": [
    "df=pd.read_csv('lenovo-jd-12211227-5e40d645-c0b7-4ec8-96f8-aea2159b4dbb_part-0.csv')"
   ]
  },
  {
   "cell_type": "code",
   "execution_count": 16,
   "metadata": {
    "collapsed": false
   },
   "outputs": [],
   "source": [
    "df=pd.read_csv('/Users/akon.ao/Downloads/test/lenovo-jd-12211227-5e40d645-c0b7-4ec8-96f8-aea2159b4dbb_part-0.csv', sep=',', header=None)"
   ]
  },
  {
   "cell_type": "code",
   "execution_count": 17,
   "metadata": {
    "collapsed": false
   },
   "outputs": [
    {
     "data": {
      "text/html": [
       "<div>\n",
       "<table border=\"1\" class=\"dataframe\">\n",
       "  <thead>\n",
       "    <tr style=\"text-align: right;\">\n",
       "      <th></th>\n",
       "      <th>0</th>\n",
       "      <th>1</th>\n",
       "      <th>2</th>\n",
       "      <th>3</th>\n",
       "      <th>4</th>\n",
       "      <th>5</th>\n",
       "      <th>6</th>\n",
       "      <th>7</th>\n",
       "      <th>8</th>\n",
       "      <th>9</th>\n",
       "    </tr>\n",
       "  </thead>\n",
       "  <tbody>\n",
       "    <tr>\n",
       "      <th>0</th>\n",
       "      <td>site id</td>\n",
       "      <td>request uid</td>\n",
       "      <td>request ip</td>\n",
       "      <td>beacon time</td>\n",
       "      <td>click time</td>\n",
       "      <td>click uid</td>\n",
       "      <td>click x real ip</td>\n",
       "      <td>placement type</td>\n",
       "      <td>ui layout</td>\n",
       "      <td>impression id</td>\n",
       "    </tr>\n",
       "    <tr>\n",
       "      <th>1</th>\n",
       "      <td>045cd9242bf74e528eccb1b11f8c1cfa</td>\n",
       "      <td>0ba767b2a263f1000de6cbaf11dbfb7cf609f428</td>\n",
       "      <td>180.123.170.133</td>\n",
       "      <td>2017-12-30 05:40:20</td>\n",
       "      <td>2017-12-30 05:40:25</td>\n",
       "      <td>0ba767b2a263f1000de6cbaf11dbfb7cf609f428</td>\n",
       "      <td>180.123.170.133</td>\n",
       "      <td>NATIVE</td>\n",
       "      <td>\"FEED\"</td>\n",
       "      <td>a5eed423-0160-1000-d880-01af69c900b6</td>\n",
       "    </tr>\n",
       "  </tbody>\n",
       "</table>\n",
       "</div>"
      ],
      "text/plain": [
       "                                  0                                         1  \\\n",
       "0                           site id                               request uid   \n",
       "1  045cd9242bf74e528eccb1b11f8c1cfa  0ba767b2a263f1000de6cbaf11dbfb7cf609f428   \n",
       "\n",
       "                 2                    3                    4  \\\n",
       "0       request ip          beacon time           click time   \n",
       "1  180.123.170.133  2017-12-30 05:40:20  2017-12-30 05:40:25   \n",
       "\n",
       "                                          5                6               7  \\\n",
       "0                                 click uid  click x real ip  placement type   \n",
       "1  0ba767b2a263f1000de6cbaf11dbfb7cf609f428  180.123.170.133          NATIVE   \n",
       "\n",
       "           8                                     9  \n",
       "0  ui layout                         impression id  \n",
       "1     \"FEED\"  a5eed423-0160-1000-d880-01af69c900b6  "
      ]
     },
     "execution_count": 17,
     "metadata": {},
     "output_type": "execute_result"
    }
   ],
   "source": [
    "df.head(2)"
   ]
  },
  {
   "cell_type": "code",
   "execution_count": 18,
   "metadata": {
    "collapsed": true
   },
   "outputs": [],
   "source": [
    "df=pd.read_csv('/Users/akon.ao/Downloads/test/lenovo-jd-12211227-5e40d645-c0b7-4ec8-96f8-aea2159b4dbb_part-0.csv', sep=',', header=0)"
   ]
  },
  {
   "cell_type": "code",
   "execution_count": 19,
   "metadata": {
    "collapsed": false
   },
   "outputs": [
    {
     "data": {
      "text/html": [
       "<div>\n",
       "<table border=\"1\" class=\"dataframe\">\n",
       "  <thead>\n",
       "    <tr style=\"text-align: right;\">\n",
       "      <th></th>\n",
       "      <th>site id</th>\n",
       "      <th>request uid</th>\n",
       "      <th>request ip</th>\n",
       "      <th>beacon time</th>\n",
       "      <th>click time</th>\n",
       "      <th>click uid</th>\n",
       "      <th>click x real ip</th>\n",
       "      <th>placement type</th>\n",
       "      <th>ui layout</th>\n",
       "      <th>impression id</th>\n",
       "    </tr>\n",
       "  </thead>\n",
       "  <tbody>\n",
       "    <tr>\n",
       "      <th>0</th>\n",
       "      <td>045cd9242bf74e528eccb1b11f8c1cfa</td>\n",
       "      <td>0ba767b2a263f1000de6cbaf11dbfb7cf609f428</td>\n",
       "      <td>180.123.170.133</td>\n",
       "      <td>2017-12-30 05:40:20</td>\n",
       "      <td>2017-12-30 05:40:25</td>\n",
       "      <td>0ba767b2a263f1000de6cbaf11dbfb7cf609f428</td>\n",
       "      <td>180.123.170.133</td>\n",
       "      <td>NATIVE</td>\n",
       "      <td>\"FEED\"</td>\n",
       "      <td>a5eed423-0160-1000-d880-01af69c900b6</td>\n",
       "    </tr>\n",
       "    <tr>\n",
       "      <th>1</th>\n",
       "      <td>045cd9242bf74e528eccb1b11f8c1cfa</td>\n",
       "      <td>17214fbcee6ba5f289b920359b29f68df779a7dc</td>\n",
       "      <td>120.37.154.162</td>\n",
       "      <td>2017-12-31 18:16:49</td>\n",
       "      <td>2017-12-31 18:17:26</td>\n",
       "      <td>17214fbcee6ba5f289b920359b29f68df779a7dc</td>\n",
       "      <td>120.37.154.162</td>\n",
       "      <td>NATIVE</td>\n",
       "      <td>\"FEED\"</td>\n",
       "      <td>adca3824-0160-1000-ea80-003069c900b3</td>\n",
       "    </tr>\n",
       "  </tbody>\n",
       "</table>\n",
       "</div>"
      ],
      "text/plain": [
       "                            site id                               request uid  \\\n",
       "0  045cd9242bf74e528eccb1b11f8c1cfa  0ba767b2a263f1000de6cbaf11dbfb7cf609f428   \n",
       "1  045cd9242bf74e528eccb1b11f8c1cfa  17214fbcee6ba5f289b920359b29f68df779a7dc   \n",
       "\n",
       "        request ip          beacon time           click time  \\\n",
       "0  180.123.170.133  2017-12-30 05:40:20  2017-12-30 05:40:25   \n",
       "1   120.37.154.162  2017-12-31 18:16:49  2017-12-31 18:17:26   \n",
       "\n",
       "                                  click uid  click x real ip placement type  \\\n",
       "0  0ba767b2a263f1000de6cbaf11dbfb7cf609f428  180.123.170.133         NATIVE   \n",
       "1  17214fbcee6ba5f289b920359b29f68df779a7dc   120.37.154.162         NATIVE   \n",
       "\n",
       "  ui layout                         impression id  \n",
       "0    \"FEED\"  a5eed423-0160-1000-d880-01af69c900b6  \n",
       "1    \"FEED\"  adca3824-0160-1000-ea80-003069c900b3  "
      ]
     },
     "execution_count": 19,
     "metadata": {},
     "output_type": "execute_result"
    }
   ],
   "source": [
    "df.head(2)"
   ]
  },
  {
   "cell_type": "code",
   "execution_count": 20,
   "metadata": {
    "collapsed": false
   },
   "outputs": [
    {
     "data": {
      "text/html": [
       "<div>\n",
       "<table border=\"1\" class=\"dataframe\">\n",
       "  <thead>\n",
       "    <tr style=\"text-align: right;\">\n",
       "      <th></th>\n",
       "      <th>site id</th>\n",
       "      <th>request uid</th>\n",
       "      <th>request ip</th>\n",
       "      <th>beacon time</th>\n",
       "      <th>click time</th>\n",
       "      <th>click uid</th>\n",
       "      <th>click x real ip</th>\n",
       "      <th>placement type</th>\n",
       "      <th>ui layout</th>\n",
       "      <th>impression id</th>\n",
       "    </tr>\n",
       "  </thead>\n",
       "  <tbody>\n",
       "    <tr>\n",
       "      <th>999998</th>\n",
       "      <td>32123478b71c45ac8a933dc1892863bf</td>\n",
       "      <td>232f7d47c6ec72536add6359787013084fdf461c</td>\n",
       "      <td>112.11.84.196</td>\n",
       "      <td>2017-12-30 05:12:13</td>\n",
       "      <td>2017-12-30 05:12:49</td>\n",
       "      <td>232f7d47c6ec72536add6359787013084fdf461c</td>\n",
       "      <td>112.11.84.196</td>\n",
       "      <td>NATIVE</td>\n",
       "      <td>\"SPLASH\"</td>\n",
       "      <td>a5d58a4b-0160-1000-dd80-034b69c900b4</td>\n",
       "    </tr>\n",
       "    <tr>\n",
       "      <th>999999</th>\n",
       "      <td>32123478b71c45ac8a933dc1892863bf</td>\n",
       "      <td>331c4d10b4a687b7177bbcb41e275b4b3309a72a</td>\n",
       "      <td>182.131.117.144</td>\n",
       "      <td>2017-12-29 15:47:20</td>\n",
       "      <td>2017-12-29 15:47:56</td>\n",
       "      <td>331c4d10b4a687b7177bbcb41e275b4b3309a72a</td>\n",
       "      <td>182.131.117.144</td>\n",
       "      <td>NATIVE</td>\n",
       "      <td>\"SPLASH\"</td>\n",
       "      <td>a2f4a28b-0160-1000-d580-038169c900b4</td>\n",
       "    </tr>\n",
       "  </tbody>\n",
       "</table>\n",
       "</div>"
      ],
      "text/plain": [
       "                                 site id  \\\n",
       "999998  32123478b71c45ac8a933dc1892863bf   \n",
       "999999  32123478b71c45ac8a933dc1892863bf   \n",
       "\n",
       "                                     request uid       request ip  \\\n",
       "999998  232f7d47c6ec72536add6359787013084fdf461c    112.11.84.196   \n",
       "999999  331c4d10b4a687b7177bbcb41e275b4b3309a72a  182.131.117.144   \n",
       "\n",
       "                beacon time           click time  \\\n",
       "999998  2017-12-30 05:12:13  2017-12-30 05:12:49   \n",
       "999999  2017-12-29 15:47:20  2017-12-29 15:47:56   \n",
       "\n",
       "                                       click uid  click x real ip  \\\n",
       "999998  232f7d47c6ec72536add6359787013084fdf461c    112.11.84.196   \n",
       "999999  331c4d10b4a687b7177bbcb41e275b4b3309a72a  182.131.117.144   \n",
       "\n",
       "       placement type ui layout                         impression id  \n",
       "999998         NATIVE  \"SPLASH\"  a5d58a4b-0160-1000-dd80-034b69c900b4  \n",
       "999999         NATIVE  \"SPLASH\"  a2f4a28b-0160-1000-d580-038169c900b4  "
      ]
     },
     "execution_count": 20,
     "metadata": {},
     "output_type": "execute_result"
    }
   ],
   "source": [
    "df.tail(2)"
   ]
  },
  {
   "cell_type": "code",
   "execution_count": 21,
   "metadata": {
    "collapsed": false
   },
   "outputs": [
    {
     "data": {
      "text/plain": [
       "(1000000, 10)"
      ]
     },
     "execution_count": 21,
     "metadata": {},
     "output_type": "execute_result"
    }
   ],
   "source": [
    "df.shape"
   ]
  },
  {
   "cell_type": "code",
   "execution_count": 22,
   "metadata": {
    "collapsed": false
   },
   "outputs": [
    {
     "data": {
      "text/plain": [
       "1000000"
      ]
     },
     "execution_count": 22,
     "metadata": {},
     "output_type": "execute_result"
    }
   ],
   "source": [
    "df.shape[0]"
   ]
  },
  {
   "cell_type": "code",
   "execution_count": 23,
   "metadata": {
    "collapsed": false
   },
   "outputs": [
    {
     "data": {
      "text/plain": [
       "RangeIndex(start=0, stop=1000000, step=1)"
      ]
     },
     "execution_count": 23,
     "metadata": {},
     "output_type": "execute_result"
    }
   ],
   "source": [
    "df.index"
   ]
  },
  {
   "cell_type": "code",
   "execution_count": 24,
   "metadata": {
    "collapsed": false
   },
   "outputs": [
    {
     "data": {
      "text/plain": [
       "Index([u'site id', u'request uid', u'request ip', u'beacon time',\n",
       "       u'click time', u'click uid', u'click x real ip', u'placement type',\n",
       "       u'ui layout', u'impression id'],\n",
       "      dtype='object')"
      ]
     },
     "execution_count": 24,
     "metadata": {},
     "output_type": "execute_result"
    }
   ],
   "source": [
    "df.columns"
   ]
  },
  {
   "cell_type": "code",
   "execution_count": 25,
   "metadata": {
    "collapsed": false
   },
   "outputs": [
    {
     "data": {
      "text/plain": [
       "site id            object\n",
       "request uid        object\n",
       "request ip         object\n",
       "beacon time        object\n",
       "click time         object\n",
       "click uid          object\n",
       "click x real ip    object\n",
       "placement type     object\n",
       "ui layout          object\n",
       "impression id      object\n",
       "dtype: object"
      ]
     },
     "execution_count": 25,
     "metadata": {},
     "output_type": "execute_result"
    }
   ],
   "source": [
    "df.dtypes"
   ]
  },
  {
   "cell_type": "code",
   "execution_count": 26,
   "metadata": {
    "collapsed": false
   },
   "outputs": [],
   "source": [
    "publishers=df['site id']"
   ]
  },
  {
   "cell_type": "code",
   "execution_count": 27,
   "metadata": {
    "collapsed": false
   },
   "outputs": [
    {
     "data": {
      "text/plain": [
       "pandas.core.series.Series"
      ]
     },
     "execution_count": 27,
     "metadata": {},
     "output_type": "execute_result"
    }
   ],
   "source": [
    "type(publishers)"
   ]
  },
  {
   "cell_type": "code",
   "execution_count": 28,
   "metadata": {
    "collapsed": false
   },
   "outputs": [
    {
     "data": {
      "text/plain": [
       "0    045cd9242bf74e528eccb1b11f8c1cfa\n",
       "1    045cd9242bf74e528eccb1b11f8c1cfa\n",
       "Name: site id, dtype: object"
      ]
     },
     "execution_count": 28,
     "metadata": {},
     "output_type": "execute_result"
    }
   ],
   "source": [
    "publishers.head(2)"
   ]
  },
  {
   "cell_type": "code",
   "execution_count": 29,
   "metadata": {
    "collapsed": false
   },
   "outputs": [],
   "source": [
    "df_pub=df[['site id','beacon time']]"
   ]
  },
  {
   "cell_type": "code",
   "execution_count": 30,
   "metadata": {
    "collapsed": false
   },
   "outputs": [
    {
     "data": {
      "text/plain": [
       "pandas.core.frame.DataFrame"
      ]
     },
     "execution_count": 30,
     "metadata": {},
     "output_type": "execute_result"
    }
   ],
   "source": [
    "type(df_pub)"
   ]
  },
  {
   "cell_type": "code",
   "execution_count": 31,
   "metadata": {
    "collapsed": false
   },
   "outputs": [
    {
     "data": {
      "text/html": [
       "<div>\n",
       "<table border=\"1\" class=\"dataframe\">\n",
       "  <thead>\n",
       "    <tr style=\"text-align: right;\">\n",
       "      <th></th>\n",
       "      <th>site id</th>\n",
       "      <th>beacon time</th>\n",
       "    </tr>\n",
       "  </thead>\n",
       "  <tbody>\n",
       "    <tr>\n",
       "      <th>0</th>\n",
       "      <td>045cd9242bf74e528eccb1b11f8c1cfa</td>\n",
       "      <td>2017-12-30 05:40:20</td>\n",
       "    </tr>\n",
       "    <tr>\n",
       "      <th>1</th>\n",
       "      <td>045cd9242bf74e528eccb1b11f8c1cfa</td>\n",
       "      <td>2017-12-31 18:16:49</td>\n",
       "    </tr>\n",
       "    <tr>\n",
       "      <th>2</th>\n",
       "      <td>045cd9242bf74e528eccb1b11f8c1cfa</td>\n",
       "      <td>2017-12-25 08:02:00</td>\n",
       "    </tr>\n",
       "    <tr>\n",
       "      <th>3</th>\n",
       "      <td>045cd9242bf74e528eccb1b11f8c1cfa</td>\n",
       "      <td>2017-12-31 16:56:29</td>\n",
       "    </tr>\n",
       "    <tr>\n",
       "      <th>4</th>\n",
       "      <td>045cd9242bf74e528eccb1b11f8c1cfa</td>\n",
       "      <td>2017-12-29 22:09:23</td>\n",
       "    </tr>\n",
       "  </tbody>\n",
       "</table>\n",
       "</div>"
      ],
      "text/plain": [
       "                            site id          beacon time\n",
       "0  045cd9242bf74e528eccb1b11f8c1cfa  2017-12-30 05:40:20\n",
       "1  045cd9242bf74e528eccb1b11f8c1cfa  2017-12-31 18:16:49\n",
       "2  045cd9242bf74e528eccb1b11f8c1cfa  2017-12-25 08:02:00\n",
       "3  045cd9242bf74e528eccb1b11f8c1cfa  2017-12-31 16:56:29\n",
       "4  045cd9242bf74e528eccb1b11f8c1cfa  2017-12-29 22:09:23"
      ]
     },
     "execution_count": 31,
     "metadata": {},
     "output_type": "execute_result"
    }
   ],
   "source": [
    "df_pub.head()"
   ]
  },
  {
   "cell_type": "code",
   "execution_count": 32,
   "metadata": {
    "collapsed": false
   },
   "outputs": [],
   "source": [
    "df1=df.reset_index()"
   ]
  },
  {
   "cell_type": "code",
   "execution_count": 33,
   "metadata": {
    "collapsed": false
   },
   "outputs": [],
   "source": [
    "df2=df.set_index('site id')"
   ]
  },
  {
   "cell_type": "code",
   "execution_count": 34,
   "metadata": {
    "collapsed": false
   },
   "outputs": [
    {
     "data": {
      "text/html": [
       "<div>\n",
       "<table border=\"1\" class=\"dataframe\">\n",
       "  <thead>\n",
       "    <tr style=\"text-align: right;\">\n",
       "      <th></th>\n",
       "      <th>request uid</th>\n",
       "      <th>request ip</th>\n",
       "      <th>beacon time</th>\n",
       "      <th>click time</th>\n",
       "      <th>click uid</th>\n",
       "      <th>click x real ip</th>\n",
       "      <th>placement type</th>\n",
       "      <th>ui layout</th>\n",
       "      <th>impression id</th>\n",
       "    </tr>\n",
       "    <tr>\n",
       "      <th>site id</th>\n",
       "      <th></th>\n",
       "      <th></th>\n",
       "      <th></th>\n",
       "      <th></th>\n",
       "      <th></th>\n",
       "      <th></th>\n",
       "      <th></th>\n",
       "      <th></th>\n",
       "      <th></th>\n",
       "    </tr>\n",
       "  </thead>\n",
       "  <tbody>\n",
       "    <tr>\n",
       "      <th>045cd9242bf74e528eccb1b11f8c1cfa</th>\n",
       "      <td>0ba767b2a263f1000de6cbaf11dbfb7cf609f428</td>\n",
       "      <td>180.123.170.133</td>\n",
       "      <td>2017-12-30 05:40:20</td>\n",
       "      <td>2017-12-30 05:40:25</td>\n",
       "      <td>0ba767b2a263f1000de6cbaf11dbfb7cf609f428</td>\n",
       "      <td>180.123.170.133</td>\n",
       "      <td>NATIVE</td>\n",
       "      <td>\"FEED\"</td>\n",
       "      <td>a5eed423-0160-1000-d880-01af69c900b6</td>\n",
       "    </tr>\n",
       "    <tr>\n",
       "      <th>045cd9242bf74e528eccb1b11f8c1cfa</th>\n",
       "      <td>17214fbcee6ba5f289b920359b29f68df779a7dc</td>\n",
       "      <td>120.37.154.162</td>\n",
       "      <td>2017-12-31 18:16:49</td>\n",
       "      <td>2017-12-31 18:17:26</td>\n",
       "      <td>17214fbcee6ba5f289b920359b29f68df779a7dc</td>\n",
       "      <td>120.37.154.162</td>\n",
       "      <td>NATIVE</td>\n",
       "      <td>\"FEED\"</td>\n",
       "      <td>adca3824-0160-1000-ea80-003069c900b3</td>\n",
       "    </tr>\n",
       "  </tbody>\n",
       "</table>\n",
       "</div>"
      ],
      "text/plain": [
       "                                                               request uid  \\\n",
       "site id                                                                      \n",
       "045cd9242bf74e528eccb1b11f8c1cfa  0ba767b2a263f1000de6cbaf11dbfb7cf609f428   \n",
       "045cd9242bf74e528eccb1b11f8c1cfa  17214fbcee6ba5f289b920359b29f68df779a7dc   \n",
       "\n",
       "                                       request ip          beacon time  \\\n",
       "site id                                                                  \n",
       "045cd9242bf74e528eccb1b11f8c1cfa  180.123.170.133  2017-12-30 05:40:20   \n",
       "045cd9242bf74e528eccb1b11f8c1cfa   120.37.154.162  2017-12-31 18:16:49   \n",
       "\n",
       "                                           click time  \\\n",
       "site id                                                 \n",
       "045cd9242bf74e528eccb1b11f8c1cfa  2017-12-30 05:40:25   \n",
       "045cd9242bf74e528eccb1b11f8c1cfa  2017-12-31 18:17:26   \n",
       "\n",
       "                                                                 click uid  \\\n",
       "site id                                                                      \n",
       "045cd9242bf74e528eccb1b11f8c1cfa  0ba767b2a263f1000de6cbaf11dbfb7cf609f428   \n",
       "045cd9242bf74e528eccb1b11f8c1cfa  17214fbcee6ba5f289b920359b29f68df779a7dc   \n",
       "\n",
       "                                  click x real ip placement type ui layout  \\\n",
       "site id                                                                      \n",
       "045cd9242bf74e528eccb1b11f8c1cfa  180.123.170.133         NATIVE    \"FEED\"   \n",
       "045cd9242bf74e528eccb1b11f8c1cfa   120.37.154.162         NATIVE    \"FEED\"   \n",
       "\n",
       "                                                         impression id  \n",
       "site id                                                                 \n",
       "045cd9242bf74e528eccb1b11f8c1cfa  a5eed423-0160-1000-d880-01af69c900b6  \n",
       "045cd9242bf74e528eccb1b11f8c1cfa  adca3824-0160-1000-ea80-003069c900b3  "
      ]
     },
     "execution_count": 34,
     "metadata": {},
     "output_type": "execute_result"
    }
   ],
   "source": [
    "df2.head(2)"
   ]
  },
  {
   "cell_type": "code",
   "execution_count": 35,
   "metadata": {
    "collapsed": false
   },
   "outputs": [
    {
     "data": {
      "text/html": [
       "<div>\n",
       "<table border=\"1\" class=\"dataframe\">\n",
       "  <thead>\n",
       "    <tr style=\"text-align: right;\">\n",
       "      <th></th>\n",
       "      <th>site id</th>\n",
       "      <th>request uid</th>\n",
       "      <th>request ip</th>\n",
       "      <th>beacon time</th>\n",
       "      <th>click time</th>\n",
       "      <th>click uid</th>\n",
       "      <th>click x real ip</th>\n",
       "      <th>placement type</th>\n",
       "      <th>ui layout</th>\n",
       "      <th>impression id</th>\n",
       "    </tr>\n",
       "  </thead>\n",
       "  <tbody>\n",
       "    <tr>\n",
       "      <th>0</th>\n",
       "      <td>045cd9242bf74e528eccb1b11f8c1cfa</td>\n",
       "      <td>0ba767b2a263f1000de6cbaf11dbfb7cf609f428</td>\n",
       "      <td>180.123.170.133</td>\n",
       "      <td>2017-12-30 05:40:20</td>\n",
       "      <td>2017-12-30 05:40:25</td>\n",
       "      <td>0ba767b2a263f1000de6cbaf11dbfb7cf609f428</td>\n",
       "      <td>180.123.170.133</td>\n",
       "      <td>NATIVE</td>\n",
       "      <td>\"FEED\"</td>\n",
       "      <td>a5eed423-0160-1000-d880-01af69c900b6</td>\n",
       "    </tr>\n",
       "    <tr>\n",
       "      <th>1</th>\n",
       "      <td>045cd9242bf74e528eccb1b11f8c1cfa</td>\n",
       "      <td>17214fbcee6ba5f289b920359b29f68df779a7dc</td>\n",
       "      <td>120.37.154.162</td>\n",
       "      <td>2017-12-31 18:16:49</td>\n",
       "      <td>2017-12-31 18:17:26</td>\n",
       "      <td>17214fbcee6ba5f289b920359b29f68df779a7dc</td>\n",
       "      <td>120.37.154.162</td>\n",
       "      <td>NATIVE</td>\n",
       "      <td>\"FEED\"</td>\n",
       "      <td>adca3824-0160-1000-ea80-003069c900b3</td>\n",
       "    </tr>\n",
       "  </tbody>\n",
       "</table>\n",
       "</div>"
      ],
      "text/plain": [
       "                            site id                               request uid  \\\n",
       "0  045cd9242bf74e528eccb1b11f8c1cfa  0ba767b2a263f1000de6cbaf11dbfb7cf609f428   \n",
       "1  045cd9242bf74e528eccb1b11f8c1cfa  17214fbcee6ba5f289b920359b29f68df779a7dc   \n",
       "\n",
       "        request ip          beacon time           click time  \\\n",
       "0  180.123.170.133  2017-12-30 05:40:20  2017-12-30 05:40:25   \n",
       "1   120.37.154.162  2017-12-31 18:16:49  2017-12-31 18:17:26   \n",
       "\n",
       "                                  click uid  click x real ip placement type  \\\n",
       "0  0ba767b2a263f1000de6cbaf11dbfb7cf609f428  180.123.170.133         NATIVE   \n",
       "1  17214fbcee6ba5f289b920359b29f68df779a7dc   120.37.154.162         NATIVE   \n",
       "\n",
       "  ui layout                         impression id  \n",
       "0    \"FEED\"  a5eed423-0160-1000-d880-01af69c900b6  \n",
       "1    \"FEED\"  adca3824-0160-1000-ea80-003069c900b3  "
      ]
     },
     "execution_count": 35,
     "metadata": {},
     "output_type": "execute_result"
    }
   ],
   "source": [
    "df[:2]"
   ]
  },
  {
   "cell_type": "code",
   "execution_count": 36,
   "metadata": {
    "collapsed": false
   },
   "outputs": [
    {
     "data": {
      "text/html": [
       "<div>\n",
       "<table border=\"1\" class=\"dataframe\">\n",
       "  <thead>\n",
       "    <tr style=\"text-align: right;\">\n",
       "      <th></th>\n",
       "      <th>site id</th>\n",
       "      <th>request uid</th>\n",
       "      <th>request ip</th>\n",
       "      <th>beacon time</th>\n",
       "      <th>click time</th>\n",
       "      <th>click uid</th>\n",
       "      <th>click x real ip</th>\n",
       "      <th>placement type</th>\n",
       "      <th>ui layout</th>\n",
       "      <th>impression id</th>\n",
       "    </tr>\n",
       "  </thead>\n",
       "  <tbody>\n",
       "    <tr>\n",
       "      <th>999998</th>\n",
       "      <td>32123478b71c45ac8a933dc1892863bf</td>\n",
       "      <td>232f7d47c6ec72536add6359787013084fdf461c</td>\n",
       "      <td>112.11.84.196</td>\n",
       "      <td>2017-12-30 05:12:13</td>\n",
       "      <td>2017-12-30 05:12:49</td>\n",
       "      <td>232f7d47c6ec72536add6359787013084fdf461c</td>\n",
       "      <td>112.11.84.196</td>\n",
       "      <td>NATIVE</td>\n",
       "      <td>\"SPLASH\"</td>\n",
       "      <td>a5d58a4b-0160-1000-dd80-034b69c900b4</td>\n",
       "    </tr>\n",
       "    <tr>\n",
       "      <th>999999</th>\n",
       "      <td>32123478b71c45ac8a933dc1892863bf</td>\n",
       "      <td>331c4d10b4a687b7177bbcb41e275b4b3309a72a</td>\n",
       "      <td>182.131.117.144</td>\n",
       "      <td>2017-12-29 15:47:20</td>\n",
       "      <td>2017-12-29 15:47:56</td>\n",
       "      <td>331c4d10b4a687b7177bbcb41e275b4b3309a72a</td>\n",
       "      <td>182.131.117.144</td>\n",
       "      <td>NATIVE</td>\n",
       "      <td>\"SPLASH\"</td>\n",
       "      <td>a2f4a28b-0160-1000-d580-038169c900b4</td>\n",
       "    </tr>\n",
       "  </tbody>\n",
       "</table>\n",
       "</div>"
      ],
      "text/plain": [
       "                                 site id  \\\n",
       "999998  32123478b71c45ac8a933dc1892863bf   \n",
       "999999  32123478b71c45ac8a933dc1892863bf   \n",
       "\n",
       "                                     request uid       request ip  \\\n",
       "999998  232f7d47c6ec72536add6359787013084fdf461c    112.11.84.196   \n",
       "999999  331c4d10b4a687b7177bbcb41e275b4b3309a72a  182.131.117.144   \n",
       "\n",
       "                beacon time           click time  \\\n",
       "999998  2017-12-30 05:12:13  2017-12-30 05:12:49   \n",
       "999999  2017-12-29 15:47:20  2017-12-29 15:47:56   \n",
       "\n",
       "                                       click uid  click x real ip  \\\n",
       "999998  232f7d47c6ec72536add6359787013084fdf461c    112.11.84.196   \n",
       "999999  331c4d10b4a687b7177bbcb41e275b4b3309a72a  182.131.117.144   \n",
       "\n",
       "       placement type ui layout                         impression id  \n",
       "999998         NATIVE  \"SPLASH\"  a5d58a4b-0160-1000-dd80-034b69c900b4  \n",
       "999999         NATIVE  \"SPLASH\"  a2f4a28b-0160-1000-d580-038169c900b4  "
      ]
     },
     "execution_count": 36,
     "metadata": {},
     "output_type": "execute_result"
    }
   ],
   "source": [
    "df[-2:]"
   ]
  },
  {
   "cell_type": "code",
   "execution_count": 37,
   "metadata": {
    "collapsed": false
   },
   "outputs": [
    {
     "data": {
      "text/html": [
       "<div>\n",
       "<table border=\"1\" class=\"dataframe\">\n",
       "  <thead>\n",
       "    <tr style=\"text-align: right;\">\n",
       "      <th></th>\n",
       "      <th>site id</th>\n",
       "      <th>request uid</th>\n",
       "      <th>request ip</th>\n",
       "      <th>beacon time</th>\n",
       "      <th>click time</th>\n",
       "      <th>click uid</th>\n",
       "      <th>click x real ip</th>\n",
       "      <th>placement type</th>\n",
       "      <th>ui layout</th>\n",
       "      <th>impression id</th>\n",
       "    </tr>\n",
       "  </thead>\n",
       "  <tbody>\n",
       "    <tr>\n",
       "      <th>0</th>\n",
       "      <td>045cd9242bf74e528eccb1b11f8c1cfa</td>\n",
       "      <td>0ba767b2a263f1000de6cbaf11dbfb7cf609f428</td>\n",
       "      <td>180.123.170.133</td>\n",
       "      <td>2017-12-30 05:40:20</td>\n",
       "      <td>2017-12-30 05:40:25</td>\n",
       "      <td>0ba767b2a263f1000de6cbaf11dbfb7cf609f428</td>\n",
       "      <td>180.123.170.133</td>\n",
       "      <td>NATIVE</td>\n",
       "      <td>\"FEED\"</td>\n",
       "      <td>a5eed423-0160-1000-d880-01af69c900b6</td>\n",
       "    </tr>\n",
       "    <tr>\n",
       "      <th>5</th>\n",
       "      <td>045cd9242bf74e528eccb1b11f8c1cfa</td>\n",
       "      <td>7a4b5e5a0ec629697306dbe4796d336a059261a7</td>\n",
       "      <td>112.41.13.86</td>\n",
       "      <td>2017-12-31 23:10:59</td>\n",
       "      <td>2017-12-31 23:11:08</td>\n",
       "      <td>7a4b5e5a0ec629697306dbe4796d336a059261a7</td>\n",
       "      <td>112.41.13.86</td>\n",
       "      <td>NATIVE</td>\n",
       "      <td>\"FEED\"</td>\n",
       "      <td>aed767c8-0160-1000-f680-034b69c900b3</td>\n",
       "    </tr>\n",
       "    <tr>\n",
       "      <th>10</th>\n",
       "      <td>047b4475e3664b7886de2b879a1923ab</td>\n",
       "      <td>2fc6bfdbb8be1ad7d3e9b782066efb98ef744c42</td>\n",
       "      <td>36.4.18.75</td>\n",
       "      <td>2017-12-30 04:08:34</td>\n",
       "      <td>2017-12-30 04:09:10</td>\n",
       "      <td>2fc6bfdbb8be1ad7d3e9b782066efb98ef744c42</td>\n",
       "      <td>36.4.18.75</td>\n",
       "      <td>NATIVE</td>\n",
       "      <td>\"FEED\"</td>\n",
       "      <td>a59b31d4-0160-1000-f180-029469c900b4</td>\n",
       "    </tr>\n",
       "  </tbody>\n",
       "</table>\n",
       "</div>"
      ],
      "text/plain": [
       "                             site id  \\\n",
       "0   045cd9242bf74e528eccb1b11f8c1cfa   \n",
       "5   045cd9242bf74e528eccb1b11f8c1cfa   \n",
       "10  047b4475e3664b7886de2b879a1923ab   \n",
       "\n",
       "                                 request uid       request ip  \\\n",
       "0   0ba767b2a263f1000de6cbaf11dbfb7cf609f428  180.123.170.133   \n",
       "5   7a4b5e5a0ec629697306dbe4796d336a059261a7     112.41.13.86   \n",
       "10  2fc6bfdbb8be1ad7d3e9b782066efb98ef744c42       36.4.18.75   \n",
       "\n",
       "            beacon time           click time  \\\n",
       "0   2017-12-30 05:40:20  2017-12-30 05:40:25   \n",
       "5   2017-12-31 23:10:59  2017-12-31 23:11:08   \n",
       "10  2017-12-30 04:08:34  2017-12-30 04:09:10   \n",
       "\n",
       "                                   click uid  click x real ip placement type  \\\n",
       "0   0ba767b2a263f1000de6cbaf11dbfb7cf609f428  180.123.170.133         NATIVE   \n",
       "5   7a4b5e5a0ec629697306dbe4796d336a059261a7     112.41.13.86         NATIVE   \n",
       "10  2fc6bfdbb8be1ad7d3e9b782066efb98ef744c42       36.4.18.75         NATIVE   \n",
       "\n",
       "   ui layout                         impression id  \n",
       "0     \"FEED\"  a5eed423-0160-1000-d880-01af69c900b6  \n",
       "5     \"FEED\"  aed767c8-0160-1000-f680-034b69c900b3  \n",
       "10    \"FEED\"  a59b31d4-0160-1000-f180-029469c900b4  "
      ]
     },
     "execution_count": 37,
     "metadata": {},
     "output_type": "execute_result"
    }
   ],
   "source": [
    "df[::5].head(3)"
   ]
  },
  {
   "cell_type": "code",
   "execution_count": 38,
   "metadata": {
    "collapsed": false
   },
   "outputs": [
    {
     "data": {
      "text/html": [
       "<div>\n",
       "<table border=\"1\" class=\"dataframe\">\n",
       "  <thead>\n",
       "    <tr style=\"text-align: right;\">\n",
       "      <th></th>\n",
       "      <th>site id</th>\n",
       "      <th>request uid</th>\n",
       "      <th>request ip</th>\n",
       "      <th>beacon time</th>\n",
       "      <th>click time</th>\n",
       "      <th>click uid</th>\n",
       "      <th>click x real ip</th>\n",
       "      <th>placement type</th>\n",
       "      <th>ui layout</th>\n",
       "      <th>impression id</th>\n",
       "    </tr>\n",
       "  </thead>\n",
       "  <tbody>\n",
       "    <tr>\n",
       "      <th>999999</th>\n",
       "      <td>32123478b71c45ac8a933dc1892863bf</td>\n",
       "      <td>331c4d10b4a687b7177bbcb41e275b4b3309a72a</td>\n",
       "      <td>182.131.117.144</td>\n",
       "      <td>2017-12-29 15:47:20</td>\n",
       "      <td>2017-12-29 15:47:56</td>\n",
       "      <td>331c4d10b4a687b7177bbcb41e275b4b3309a72a</td>\n",
       "      <td>182.131.117.144</td>\n",
       "      <td>NATIVE</td>\n",
       "      <td>\"SPLASH\"</td>\n",
       "      <td>a2f4a28b-0160-1000-d580-038169c900b4</td>\n",
       "    </tr>\n",
       "    <tr>\n",
       "      <th>999997</th>\n",
       "      <td>32123478b71c45ac8a933dc1892863bf</td>\n",
       "      <td>135a7fb4896306f5e67878c06139681c5d4822d6</td>\n",
       "      <td>120.70.248.124</td>\n",
       "      <td>2017-12-30 03:41:47</td>\n",
       "      <td>2017-12-30 03:42:24</td>\n",
       "      <td>135a7fb4896306f5e67878c06139681c5d4822d6</td>\n",
       "      <td>120.70.248.124</td>\n",
       "      <td>NATIVE</td>\n",
       "      <td>\"SPLASH\"</td>\n",
       "      <td>a582baa9-0160-1000-e880-01a469c900b5</td>\n",
       "    </tr>\n",
       "    <tr>\n",
       "      <th>999995</th>\n",
       "      <td>31a84b450ea841c3b204a2e8079a1dc4</td>\n",
       "      <td>7a23d0d412d30384f4c7b65985e47ea8f24cccff</td>\n",
       "      <td>183.149.63.210</td>\n",
       "      <td>2017-12-30 21:37:10</td>\n",
       "      <td>2017-12-30 21:37:47</td>\n",
       "      <td>7a23d0d412d30384f4c7b65985e47ea8f24cccff</td>\n",
       "      <td>183.149.63.210</td>\n",
       "      <td>NATIVE</td>\n",
       "      <td>\"FEED\"</td>\n",
       "      <td>a95b4817-0160-1000-e080-032569c900b1</td>\n",
       "    </tr>\n",
       "  </tbody>\n",
       "</table>\n",
       "</div>"
      ],
      "text/plain": [
       "                                 site id  \\\n",
       "999999  32123478b71c45ac8a933dc1892863bf   \n",
       "999997  32123478b71c45ac8a933dc1892863bf   \n",
       "999995  31a84b450ea841c3b204a2e8079a1dc4   \n",
       "\n",
       "                                     request uid       request ip  \\\n",
       "999999  331c4d10b4a687b7177bbcb41e275b4b3309a72a  182.131.117.144   \n",
       "999997  135a7fb4896306f5e67878c06139681c5d4822d6   120.70.248.124   \n",
       "999995  7a23d0d412d30384f4c7b65985e47ea8f24cccff   183.149.63.210   \n",
       "\n",
       "                beacon time           click time  \\\n",
       "999999  2017-12-29 15:47:20  2017-12-29 15:47:56   \n",
       "999997  2017-12-30 03:41:47  2017-12-30 03:42:24   \n",
       "999995  2017-12-30 21:37:10  2017-12-30 21:37:47   \n",
       "\n",
       "                                       click uid  click x real ip  \\\n",
       "999999  331c4d10b4a687b7177bbcb41e275b4b3309a72a  182.131.117.144   \n",
       "999997  135a7fb4896306f5e67878c06139681c5d4822d6   120.70.248.124   \n",
       "999995  7a23d0d412d30384f4c7b65985e47ea8f24cccff   183.149.63.210   \n",
       "\n",
       "       placement type ui layout                         impression id  \n",
       "999999         NATIVE  \"SPLASH\"  a2f4a28b-0160-1000-d580-038169c900b4  \n",
       "999997         NATIVE  \"SPLASH\"  a582baa9-0160-1000-e880-01a469c900b5  \n",
       "999995         NATIVE    \"FEED\"  a95b4817-0160-1000-e080-032569c900b1  "
      ]
     },
     "execution_count": 38,
     "metadata": {},
     "output_type": "execute_result"
    }
   ],
   "source": [
    "df[::-2].head(3)"
   ]
  },
  {
   "cell_type": "code",
   "execution_count": 39,
   "metadata": {
    "collapsed": false
   },
   "outputs": [
    {
     "data": {
      "text/html": [
       "<div>\n",
       "<table border=\"1\" class=\"dataframe\">\n",
       "  <thead>\n",
       "    <tr style=\"text-align: right;\">\n",
       "      <th></th>\n",
       "      <th>site id</th>\n",
       "      <th>request uid</th>\n",
       "      <th>request ip</th>\n",
       "      <th>beacon time</th>\n",
       "      <th>click time</th>\n",
       "    </tr>\n",
       "  </thead>\n",
       "  <tbody>\n",
       "    <tr>\n",
       "      <th>3</th>\n",
       "      <td>045cd9242bf74e528eccb1b11f8c1cfa</td>\n",
       "      <td>3e100c63144e76750ab1efedf37c333bba4e53b0</td>\n",
       "      <td>220.189.96.21</td>\n",
       "      <td>2017-12-31 16:56:29</td>\n",
       "      <td>2017-12-31 16:56:34</td>\n",
       "    </tr>\n",
       "    <tr>\n",
       "      <th>4</th>\n",
       "      <td>045cd9242bf74e528eccb1b11f8c1cfa</td>\n",
       "      <td>60639839376dca4d475ae2e585ec21930af04c7a</td>\n",
       "      <td>223.96.237.202</td>\n",
       "      <td>2017-12-29 22:09:23</td>\n",
       "      <td>2017-12-29 22:09:56</td>\n",
       "    </tr>\n",
       "    <tr>\n",
       "      <th>5</th>\n",
       "      <td>045cd9242bf74e528eccb1b11f8c1cfa</td>\n",
       "      <td>7a4b5e5a0ec629697306dbe4796d336a059261a7</td>\n",
       "      <td>112.41.13.86</td>\n",
       "      <td>2017-12-31 23:10:59</td>\n",
       "      <td>2017-12-31 23:11:08</td>\n",
       "    </tr>\n",
       "  </tbody>\n",
       "</table>\n",
       "</div>"
      ],
      "text/plain": [
       "                            site id                               request uid  \\\n",
       "3  045cd9242bf74e528eccb1b11f8c1cfa  3e100c63144e76750ab1efedf37c333bba4e53b0   \n",
       "4  045cd9242bf74e528eccb1b11f8c1cfa  60639839376dca4d475ae2e585ec21930af04c7a   \n",
       "5  045cd9242bf74e528eccb1b11f8c1cfa  7a4b5e5a0ec629697306dbe4796d336a059261a7   \n",
       "\n",
       "       request ip          beacon time           click time  \n",
       "3   220.189.96.21  2017-12-31 16:56:29  2017-12-31 16:56:34  \n",
       "4  223.96.237.202  2017-12-29 22:09:23  2017-12-29 22:09:56  \n",
       "5    112.41.13.86  2017-12-31 23:10:59  2017-12-31 23:11:08  "
      ]
     },
     "execution_count": 39,
     "metadata": {},
     "output_type": "execute_result"
    }
   ],
   "source": [
    "df.loc[3:5,'site id':'click time']"
   ]
  },
  {
   "cell_type": "code",
   "execution_count": 40,
   "metadata": {
    "collapsed": false
   },
   "outputs": [
    {
     "data": {
      "text/html": [
       "<div>\n",
       "<table border=\"1\" class=\"dataframe\">\n",
       "  <thead>\n",
       "    <tr style=\"text-align: right;\">\n",
       "      <th></th>\n",
       "      <th>site id</th>\n",
       "      <th>request uid</th>\n",
       "      <th>request ip</th>\n",
       "      <th>beacon time</th>\n",
       "      <th>click time</th>\n",
       "      <th>click uid</th>\n",
       "      <th>click x real ip</th>\n",
       "      <th>placement type</th>\n",
       "      <th>ui layout</th>\n",
       "      <th>impression id</th>\n",
       "    </tr>\n",
       "  </thead>\n",
       "  <tbody>\n",
       "    <tr>\n",
       "      <th>3</th>\n",
       "      <td>045cd9242bf74e528eccb1b11f8c1cfa</td>\n",
       "      <td>3e100c63144e76750ab1efedf37c333bba4e53b0</td>\n",
       "      <td>220.189.96.21</td>\n",
       "      <td>2017-12-31 16:56:29</td>\n",
       "      <td>2017-12-31 16:56:34</td>\n",
       "      <td>3e100c63144e76750ab1efedf37c333bba4e53b0</td>\n",
       "      <td>220.189.96.21</td>\n",
       "      <td>NATIVE</td>\n",
       "      <td>\"FEED\"</td>\n",
       "      <td>ad803a18-0160-1000-d280-005069c900b1</td>\n",
       "    </tr>\n",
       "    <tr>\n",
       "      <th>4</th>\n",
       "      <td>045cd9242bf74e528eccb1b11f8c1cfa</td>\n",
       "      <td>60639839376dca4d475ae2e585ec21930af04c7a</td>\n",
       "      <td>223.96.237.202</td>\n",
       "      <td>2017-12-29 22:09:23</td>\n",
       "      <td>2017-12-29 22:09:56</td>\n",
       "      <td>60639839376dca4d475ae2e585ec21930af04c7a</td>\n",
       "      <td>223.96.237.202</td>\n",
       "      <td>NATIVE</td>\n",
       "      <td>\"FEED\"</td>\n",
       "      <td>a4526a27-0160-1000-cb80-02a469c900b3</td>\n",
       "    </tr>\n",
       "    <tr>\n",
       "      <th>5</th>\n",
       "      <td>045cd9242bf74e528eccb1b11f8c1cfa</td>\n",
       "      <td>7a4b5e5a0ec629697306dbe4796d336a059261a7</td>\n",
       "      <td>112.41.13.86</td>\n",
       "      <td>2017-12-31 23:10:59</td>\n",
       "      <td>2017-12-31 23:11:08</td>\n",
       "      <td>7a4b5e5a0ec629697306dbe4796d336a059261a7</td>\n",
       "      <td>112.41.13.86</td>\n",
       "      <td>NATIVE</td>\n",
       "      <td>\"FEED\"</td>\n",
       "      <td>aed767c8-0160-1000-f680-034b69c900b3</td>\n",
       "    </tr>\n",
       "  </tbody>\n",
       "</table>\n",
       "</div>"
      ],
      "text/plain": [
       "                            site id                               request uid  \\\n",
       "3  045cd9242bf74e528eccb1b11f8c1cfa  3e100c63144e76750ab1efedf37c333bba4e53b0   \n",
       "4  045cd9242bf74e528eccb1b11f8c1cfa  60639839376dca4d475ae2e585ec21930af04c7a   \n",
       "5  045cd9242bf74e528eccb1b11f8c1cfa  7a4b5e5a0ec629697306dbe4796d336a059261a7   \n",
       "\n",
       "       request ip          beacon time           click time  \\\n",
       "3   220.189.96.21  2017-12-31 16:56:29  2017-12-31 16:56:34   \n",
       "4  223.96.237.202  2017-12-29 22:09:23  2017-12-29 22:09:56   \n",
       "5    112.41.13.86  2017-12-31 23:10:59  2017-12-31 23:11:08   \n",
       "\n",
       "                                  click uid click x real ip placement type  \\\n",
       "3  3e100c63144e76750ab1efedf37c333bba4e53b0   220.189.96.21         NATIVE   \n",
       "4  60639839376dca4d475ae2e585ec21930af04c7a  223.96.237.202         NATIVE   \n",
       "5  7a4b5e5a0ec629697306dbe4796d336a059261a7    112.41.13.86         NATIVE   \n",
       "\n",
       "  ui layout                         impression id  \n",
       "3    \"FEED\"  ad803a18-0160-1000-d280-005069c900b1  \n",
       "4    \"FEED\"  a4526a27-0160-1000-cb80-02a469c900b3  \n",
       "5    \"FEED\"  aed767c8-0160-1000-f680-034b69c900b3  "
      ]
     },
     "execution_count": 40,
     "metadata": {},
     "output_type": "execute_result"
    }
   ],
   "source": [
    "df.loc[3:5,:]"
   ]
  },
  {
   "cell_type": "code",
   "execution_count": 41,
   "metadata": {
    "collapsed": false
   },
   "outputs": [
    {
     "data": {
      "text/plain": [
       "site id                    045cd9242bf74e528eccb1b11f8c1cfa\n",
       "request uid        0ba767b2a263f1000de6cbaf11dbfb7cf609f428\n",
       "request ip                                  180.123.170.133\n",
       "beacon time                             2017-12-30 05:40:20\n",
       "click time                              2017-12-30 05:40:25\n",
       "click uid          0ba767b2a263f1000de6cbaf11dbfb7cf609f428\n",
       "click x real ip                             180.123.170.133\n",
       "placement type                                       NATIVE\n",
       "ui layout                                            \"FEED\"\n",
       "impression id          a5eed423-0160-1000-d880-01af69c900b6\n",
       "Name: 0, dtype: object"
      ]
     },
     "execution_count": 41,
     "metadata": {},
     "output_type": "execute_result"
    }
   ],
   "source": [
    "df.loc[0]"
   ]
  },
  {
   "cell_type": "code",
   "execution_count": 42,
   "metadata": {
    "collapsed": false
   },
   "outputs": [
    {
     "data": {
      "text/plain": [
       "site id                    045cd9242bf74e528eccb1b11f8c1cfa\n",
       "request uid        0ba767b2a263f1000de6cbaf11dbfb7cf609f428\n",
       "request ip                                  180.123.170.133\n",
       "beacon time                             2017-12-30 05:40:20\n",
       "click time                              2017-12-30 05:40:25\n",
       "click uid          0ba767b2a263f1000de6cbaf11dbfb7cf609f428\n",
       "click x real ip                             180.123.170.133\n",
       "placement type                                       NATIVE\n",
       "ui layout                                            \"FEED\"\n",
       "impression id          a5eed423-0160-1000-d880-01af69c900b6\n",
       "Name: 0, dtype: object"
      ]
     },
     "execution_count": 42,
     "metadata": {},
     "output_type": "execute_result"
    }
   ],
   "source": [
    "df.loc[0,:]"
   ]
  },
  {
   "cell_type": "code",
   "execution_count": 43,
   "metadata": {
    "collapsed": false
   },
   "outputs": [
    {
     "data": {
      "text/html": [
       "<div>\n",
       "<table border=\"1\" class=\"dataframe\">\n",
       "  <thead>\n",
       "    <tr style=\"text-align: right;\">\n",
       "      <th></th>\n",
       "      <th>site id</th>\n",
       "      <th>click time</th>\n",
       "      <th>request ip</th>\n",
       "    </tr>\n",
       "  </thead>\n",
       "  <tbody>\n",
       "    <tr>\n",
       "      <th>1</th>\n",
       "      <td>045cd9242bf74e528eccb1b11f8c1cfa</td>\n",
       "      <td>2017-12-31 18:17:26</td>\n",
       "      <td>120.37.154.162</td>\n",
       "    </tr>\n",
       "    <tr>\n",
       "      <th>9</th>\n",
       "      <td>047b4475e3664b7886de2b879a1923ab</td>\n",
       "      <td>2017-12-28 16:08:46</td>\n",
       "      <td>118.119.246.101</td>\n",
       "    </tr>\n",
       "    <tr>\n",
       "      <th>3</th>\n",
       "      <td>045cd9242bf74e528eccb1b11f8c1cfa</td>\n",
       "      <td>2017-12-31 16:56:34</td>\n",
       "      <td>220.189.96.21</td>\n",
       "    </tr>\n",
       "  </tbody>\n",
       "</table>\n",
       "</div>"
      ],
      "text/plain": [
       "                            site id           click time       request ip\n",
       "1  045cd9242bf74e528eccb1b11f8c1cfa  2017-12-31 18:17:26   120.37.154.162\n",
       "9  047b4475e3664b7886de2b879a1923ab  2017-12-28 16:08:46  118.119.246.101\n",
       "3  045cd9242bf74e528eccb1b11f8c1cfa  2017-12-31 16:56:34    220.189.96.21"
      ]
     },
     "execution_count": 43,
     "metadata": {},
     "output_type": "execute_result"
    }
   ],
   "source": [
    "df.loc[[1,9,3],['site id','click time','request ip']]"
   ]
  },
  {
   "cell_type": "code",
   "execution_count": 44,
   "metadata": {
    "collapsed": false
   },
   "outputs": [
    {
     "data": {
      "text/html": [
       "<div>\n",
       "<table border=\"1\" class=\"dataframe\">\n",
       "  <thead>\n",
       "    <tr style=\"text-align: right;\">\n",
       "      <th></th>\n",
       "      <th>site id</th>\n",
       "      <th>request ip</th>\n",
       "      <th>click time</th>\n",
       "    </tr>\n",
       "  </thead>\n",
       "  <tbody>\n",
       "    <tr>\n",
       "      <th>0</th>\n",
       "      <td>045cd9242bf74e528eccb1b11f8c1cfa</td>\n",
       "      <td>180.123.170.133</td>\n",
       "      <td>2017-12-30 05:40:25</td>\n",
       "    </tr>\n",
       "    <tr>\n",
       "      <th>1</th>\n",
       "      <td>045cd9242bf74e528eccb1b11f8c1cfa</td>\n",
       "      <td>120.37.154.162</td>\n",
       "      <td>2017-12-31 18:17:26</td>\n",
       "    </tr>\n",
       "    <tr>\n",
       "      <th>2</th>\n",
       "      <td>045cd9242bf74e528eccb1b11f8c1cfa</td>\n",
       "      <td>36.149.207.147</td>\n",
       "      <td>2017-12-25 08:02:37</td>\n",
       "    </tr>\n",
       "    <tr>\n",
       "      <th>3</th>\n",
       "      <td>045cd9242bf74e528eccb1b11f8c1cfa</td>\n",
       "      <td>220.189.96.21</td>\n",
       "      <td>2017-12-31 16:56:34</td>\n",
       "    </tr>\n",
       "  </tbody>\n",
       "</table>\n",
       "</div>"
      ],
      "text/plain": [
       "                            site id       request ip           click time\n",
       "0  045cd9242bf74e528eccb1b11f8c1cfa  180.123.170.133  2017-12-30 05:40:25\n",
       "1  045cd9242bf74e528eccb1b11f8c1cfa   120.37.154.162  2017-12-31 18:17:26\n",
       "2  045cd9242bf74e528eccb1b11f8c1cfa   36.149.207.147  2017-12-25 08:02:37\n",
       "3  045cd9242bf74e528eccb1b11f8c1cfa    220.189.96.21  2017-12-31 16:56:34"
      ]
     },
     "execution_count": 44,
     "metadata": {},
     "output_type": "execute_result"
    }
   ],
   "source": [
    "df.loc[0:3,['site id','request ip','click time']]"
   ]
  },
  {
   "cell_type": "code",
   "execution_count": 45,
   "metadata": {
    "collapsed": false
   },
   "outputs": [
    {
     "data": {
      "text/html": [
       "<div>\n",
       "<table border=\"1\" class=\"dataframe\">\n",
       "  <thead>\n",
       "    <tr style=\"text-align: right;\">\n",
       "      <th></th>\n",
       "      <th>site id</th>\n",
       "      <th>request uid</th>\n",
       "      <th>request ip</th>\n",
       "      <th>beacon time</th>\n",
       "      <th>click time</th>\n",
       "    </tr>\n",
       "  </thead>\n",
       "  <tbody>\n",
       "    <tr>\n",
       "      <th>1</th>\n",
       "      <td>045cd9242bf74e528eccb1b11f8c1cfa</td>\n",
       "      <td>17214fbcee6ba5f289b920359b29f68df779a7dc</td>\n",
       "      <td>120.37.154.162</td>\n",
       "      <td>2017-12-31 18:16:49</td>\n",
       "      <td>2017-12-31 18:17:26</td>\n",
       "    </tr>\n",
       "    <tr>\n",
       "      <th>3</th>\n",
       "      <td>045cd9242bf74e528eccb1b11f8c1cfa</td>\n",
       "      <td>3e100c63144e76750ab1efedf37c333bba4e53b0</td>\n",
       "      <td>220.189.96.21</td>\n",
       "      <td>2017-12-31 16:56:29</td>\n",
       "      <td>2017-12-31 16:56:34</td>\n",
       "    </tr>\n",
       "    <tr>\n",
       "      <th>5</th>\n",
       "      <td>045cd9242bf74e528eccb1b11f8c1cfa</td>\n",
       "      <td>7a4b5e5a0ec629697306dbe4796d336a059261a7</td>\n",
       "      <td>112.41.13.86</td>\n",
       "      <td>2017-12-31 23:10:59</td>\n",
       "      <td>2017-12-31 23:11:08</td>\n",
       "    </tr>\n",
       "  </tbody>\n",
       "</table>\n",
       "</div>"
      ],
      "text/plain": [
       "                            site id                               request uid  \\\n",
       "1  045cd9242bf74e528eccb1b11f8c1cfa  17214fbcee6ba5f289b920359b29f68df779a7dc   \n",
       "3  045cd9242bf74e528eccb1b11f8c1cfa  3e100c63144e76750ab1efedf37c333bba4e53b0   \n",
       "5  045cd9242bf74e528eccb1b11f8c1cfa  7a4b5e5a0ec629697306dbe4796d336a059261a7   \n",
       "\n",
       "       request ip          beacon time           click time  \n",
       "1  120.37.154.162  2017-12-31 18:16:49  2017-12-31 18:17:26  \n",
       "3   220.189.96.21  2017-12-31 16:56:29  2017-12-31 16:56:34  \n",
       "5    112.41.13.86  2017-12-31 23:10:59  2017-12-31 23:11:08  "
      ]
     },
     "execution_count": 45,
     "metadata": {},
     "output_type": "execute_result"
    }
   ],
   "source": [
    "df.loc[[1,3,5],'site id':'click time']"
   ]
  },
  {
   "cell_type": "code",
   "execution_count": 46,
   "metadata": {
    "collapsed": false
   },
   "outputs": [
    {
     "data": {
      "text/plain": [
       "site id       045cd9242bf74e528eccb1b11f8c1cfa\n",
       "click time                 2017-12-30 05:40:25\n",
       "Name: 0, dtype: object"
      ]
     },
     "execution_count": 46,
     "metadata": {},
     "output_type": "execute_result"
    }
   ],
   "source": [
    "df.loc[0,['site id','click time']]"
   ]
  },
  {
   "cell_type": "code",
   "execution_count": 47,
   "metadata": {
    "collapsed": false
   },
   "outputs": [
    {
     "data": {
      "text/html": [
       "<div>\n",
       "<table border=\"1\" class=\"dataframe\">\n",
       "  <thead>\n",
       "    <tr style=\"text-align: right;\">\n",
       "      <th></th>\n",
       "      <th>site id</th>\n",
       "      <th>request uid</th>\n",
       "    </tr>\n",
       "  </thead>\n",
       "  <tbody>\n",
       "    <tr>\n",
       "      <th>0</th>\n",
       "      <td>045cd9242bf74e528eccb1b11f8c1cfa</td>\n",
       "      <td>0ba767b2a263f1000de6cbaf11dbfb7cf609f428</td>\n",
       "    </tr>\n",
       "    <tr>\n",
       "      <th>1</th>\n",
       "      <td>045cd9242bf74e528eccb1b11f8c1cfa</td>\n",
       "      <td>17214fbcee6ba5f289b920359b29f68df779a7dc</td>\n",
       "    </tr>\n",
       "    <tr>\n",
       "      <th>2</th>\n",
       "      <td>045cd9242bf74e528eccb1b11f8c1cfa</td>\n",
       "      <td>39624917464cc442960c6a6f34df1fc21a3f9d8b</td>\n",
       "    </tr>\n",
       "  </tbody>\n",
       "</table>\n",
       "</div>"
      ],
      "text/plain": [
       "                            site id                               request uid\n",
       "0  045cd9242bf74e528eccb1b11f8c1cfa  0ba767b2a263f1000de6cbaf11dbfb7cf609f428\n",
       "1  045cd9242bf74e528eccb1b11f8c1cfa  17214fbcee6ba5f289b920359b29f68df779a7dc\n",
       "2  045cd9242bf74e528eccb1b11f8c1cfa  39624917464cc442960c6a6f34df1fc21a3f9d8b"
      ]
     },
     "execution_count": 47,
     "metadata": {},
     "output_type": "execute_result"
    }
   ],
   "source": [
    "df.iloc[0:3,0:2]"
   ]
  },
  {
   "cell_type": "code",
   "execution_count": 48,
   "metadata": {
    "collapsed": false
   },
   "outputs": [
    {
     "data": {
      "text/html": [
       "<div>\n",
       "<table border=\"1\" class=\"dataframe\">\n",
       "  <thead>\n",
       "    <tr style=\"text-align: right;\">\n",
       "      <th></th>\n",
       "      <th>site id</th>\n",
       "      <th>request ip</th>\n",
       "      <th>click time</th>\n",
       "      <th>click x real ip</th>\n",
       "    </tr>\n",
       "  </thead>\n",
       "  <tbody>\n",
       "    <tr>\n",
       "      <th>1</th>\n",
       "      <td>045cd9242bf74e528eccb1b11f8c1cfa</td>\n",
       "      <td>120.37.154.162</td>\n",
       "      <td>2017-12-31 18:17:26</td>\n",
       "      <td>120.37.154.162</td>\n",
       "    </tr>\n",
       "    <tr>\n",
       "      <th>2</th>\n",
       "      <td>045cd9242bf74e528eccb1b11f8c1cfa</td>\n",
       "      <td>36.149.207.147</td>\n",
       "      <td>2017-12-25 08:02:37</td>\n",
       "      <td>36.149.79.242</td>\n",
       "    </tr>\n",
       "    <tr>\n",
       "      <th>3</th>\n",
       "      <td>045cd9242bf74e528eccb1b11f8c1cfa</td>\n",
       "      <td>220.189.96.21</td>\n",
       "      <td>2017-12-31 16:56:34</td>\n",
       "      <td>220.189.96.21</td>\n",
       "    </tr>\n",
       "  </tbody>\n",
       "</table>\n",
       "</div>"
      ],
      "text/plain": [
       "                            site id      request ip           click time  \\\n",
       "1  045cd9242bf74e528eccb1b11f8c1cfa  120.37.154.162  2017-12-31 18:17:26   \n",
       "2  045cd9242bf74e528eccb1b11f8c1cfa  36.149.207.147  2017-12-25 08:02:37   \n",
       "3  045cd9242bf74e528eccb1b11f8c1cfa   220.189.96.21  2017-12-31 16:56:34   \n",
       "\n",
       "  click x real ip  \n",
       "1  120.37.154.162  \n",
       "2   36.149.79.242  \n",
       "3   220.189.96.21  "
      ]
     },
     "execution_count": 48,
     "metadata": {},
     "output_type": "execute_result"
    }
   ],
   "source": [
    "df.iloc[[1,2,3],[0,2,4,6]]"
   ]
  },
  {
   "cell_type": "code",
   "execution_count": 49,
   "metadata": {
    "collapsed": false
   },
   "outputs": [
    {
     "data": {
      "text/html": [
       "<div>\n",
       "<table border=\"1\" class=\"dataframe\">\n",
       "  <thead>\n",
       "    <tr style=\"text-align: right;\">\n",
       "      <th></th>\n",
       "      <th>site id</th>\n",
       "      <th>request uid</th>\n",
       "      <th>request ip</th>\n",
       "      <th>beacon time</th>\n",
       "      <th>click time</th>\n",
       "    </tr>\n",
       "  </thead>\n",
       "  <tbody>\n",
       "    <tr>\n",
       "      <th>0</th>\n",
       "      <td>045cd9242bf74e528eccb1b11f8c1cfa</td>\n",
       "      <td>0ba767b2a263f1000de6cbaf11dbfb7cf609f428</td>\n",
       "      <td>180.123.170.133</td>\n",
       "      <td>2017-12-30 05:40:20</td>\n",
       "      <td>2017-12-30 05:40:25</td>\n",
       "    </tr>\n",
       "    <tr>\n",
       "      <th>1</th>\n",
       "      <td>045cd9242bf74e528eccb1b11f8c1cfa</td>\n",
       "      <td>17214fbcee6ba5f289b920359b29f68df779a7dc</td>\n",
       "      <td>120.37.154.162</td>\n",
       "      <td>2017-12-31 18:16:49</td>\n",
       "      <td>2017-12-31 18:17:26</td>\n",
       "    </tr>\n",
       "    <tr>\n",
       "      <th>2</th>\n",
       "      <td>045cd9242bf74e528eccb1b11f8c1cfa</td>\n",
       "      <td>39624917464cc442960c6a6f34df1fc21a3f9d8b</td>\n",
       "      <td>36.149.207.147</td>\n",
       "      <td>2017-12-25 08:02:00</td>\n",
       "      <td>2017-12-25 08:02:37</td>\n",
       "    </tr>\n",
       "    <tr>\n",
       "      <th>3</th>\n",
       "      <td>045cd9242bf74e528eccb1b11f8c1cfa</td>\n",
       "      <td>3e100c63144e76750ab1efedf37c333bba4e53b0</td>\n",
       "      <td>220.189.96.21</td>\n",
       "      <td>2017-12-31 16:56:29</td>\n",
       "      <td>2017-12-31 16:56:34</td>\n",
       "    </tr>\n",
       "    <tr>\n",
       "      <th>4</th>\n",
       "      <td>045cd9242bf74e528eccb1b11f8c1cfa</td>\n",
       "      <td>60639839376dca4d475ae2e585ec21930af04c7a</td>\n",
       "      <td>223.96.237.202</td>\n",
       "      <td>2017-12-29 22:09:23</td>\n",
       "      <td>2017-12-29 22:09:56</td>\n",
       "    </tr>\n",
       "    <tr>\n",
       "      <th>5</th>\n",
       "      <td>045cd9242bf74e528eccb1b11f8c1cfa</td>\n",
       "      <td>7a4b5e5a0ec629697306dbe4796d336a059261a7</td>\n",
       "      <td>112.41.13.86</td>\n",
       "      <td>2017-12-31 23:10:59</td>\n",
       "      <td>2017-12-31 23:11:08</td>\n",
       "    </tr>\n",
       "  </tbody>\n",
       "</table>\n",
       "</div>"
      ],
      "text/plain": [
       "                            site id                               request uid  \\\n",
       "0  045cd9242bf74e528eccb1b11f8c1cfa  0ba767b2a263f1000de6cbaf11dbfb7cf609f428   \n",
       "1  045cd9242bf74e528eccb1b11f8c1cfa  17214fbcee6ba5f289b920359b29f68df779a7dc   \n",
       "2  045cd9242bf74e528eccb1b11f8c1cfa  39624917464cc442960c6a6f34df1fc21a3f9d8b   \n",
       "3  045cd9242bf74e528eccb1b11f8c1cfa  3e100c63144e76750ab1efedf37c333bba4e53b0   \n",
       "4  045cd9242bf74e528eccb1b11f8c1cfa  60639839376dca4d475ae2e585ec21930af04c7a   \n",
       "5  045cd9242bf74e528eccb1b11f8c1cfa  7a4b5e5a0ec629697306dbe4796d336a059261a7   \n",
       "\n",
       "        request ip          beacon time           click time  \n",
       "0  180.123.170.133  2017-12-30 05:40:20  2017-12-30 05:40:25  \n",
       "1   120.37.154.162  2017-12-31 18:16:49  2017-12-31 18:17:26  \n",
       "2   36.149.207.147  2017-12-25 08:02:00  2017-12-25 08:02:37  \n",
       "3    220.189.96.21  2017-12-31 16:56:29  2017-12-31 16:56:34  \n",
       "4   223.96.237.202  2017-12-29 22:09:23  2017-12-29 22:09:56  \n",
       "5     112.41.13.86  2017-12-31 23:10:59  2017-12-31 23:11:08  "
      ]
     },
     "execution_count": 49,
     "metadata": {},
     "output_type": "execute_result"
    }
   ],
   "source": [
    "df.ix[0:5,'site id':'click time']"
   ]
  },
  {
   "cell_type": "code",
   "execution_count": 50,
   "metadata": {
    "collapsed": false
   },
   "outputs": [
    {
     "data": {
      "text/html": [
       "<div>\n",
       "<table border=\"1\" class=\"dataframe\">\n",
       "  <thead>\n",
       "    <tr style=\"text-align: right;\">\n",
       "      <th></th>\n",
       "      <th>site id</th>\n",
       "      <th>request ip</th>\n",
       "      <th>click time</th>\n",
       "    </tr>\n",
       "  </thead>\n",
       "  <tbody>\n",
       "    <tr>\n",
       "      <th>0</th>\n",
       "      <td>045cd9242bf74e528eccb1b11f8c1cfa</td>\n",
       "      <td>180.123.170.133</td>\n",
       "      <td>2017-12-30 05:40:25</td>\n",
       "    </tr>\n",
       "    <tr>\n",
       "      <th>2</th>\n",
       "      <td>045cd9242bf74e528eccb1b11f8c1cfa</td>\n",
       "      <td>36.149.207.147</td>\n",
       "      <td>2017-12-25 08:02:37</td>\n",
       "    </tr>\n",
       "    <tr>\n",
       "      <th>4</th>\n",
       "      <td>045cd9242bf74e528eccb1b11f8c1cfa</td>\n",
       "      <td>223.96.237.202</td>\n",
       "      <td>2017-12-29 22:09:56</td>\n",
       "    </tr>\n",
       "  </tbody>\n",
       "</table>\n",
       "</div>"
      ],
      "text/plain": [
       "                            site id       request ip           click time\n",
       "0  045cd9242bf74e528eccb1b11f8c1cfa  180.123.170.133  2017-12-30 05:40:25\n",
       "2  045cd9242bf74e528eccb1b11f8c1cfa   36.149.207.147  2017-12-25 08:02:37\n",
       "4  045cd9242bf74e528eccb1b11f8c1cfa   223.96.237.202  2017-12-29 22:09:56"
      ]
     },
     "execution_count": 50,
     "metadata": {},
     "output_type": "execute_result"
    }
   ],
   "source": [
    "df.ix[[0,2,4],['site id','request ip','click time']]"
   ]
  },
  {
   "cell_type": "code",
   "execution_count": 51,
   "metadata": {
    "collapsed": false
   },
   "outputs": [
    {
     "data": {
      "text/plain": [
       "pandas.core.groupby.SeriesGroupBy"
      ]
     },
     "execution_count": 51,
     "metadata": {},
     "output_type": "execute_result"
    }
   ],
   "source": [
    "type(df.groupby(['ui layout'])['impression id'])"
   ]
  },
  {
   "cell_type": "code",
   "execution_count": 52,
   "metadata": {
    "collapsed": false
   },
   "outputs": [],
   "source": [
    "%config IPCompleter.greedy=True"
   ]
  },
  {
   "cell_type": "code",
   "execution_count": 53,
   "metadata": {
    "collapsed": false
   },
   "outputs": [
    {
     "data": {
      "text/html": [
       "<div>\n",
       "<table border=\"1\" class=\"dataframe\">\n",
       "  <thead>\n",
       "    <tr style=\"text-align: right;\">\n",
       "      <th></th>\n",
       "      <th></th>\n",
       "      <th>impression id</th>\n",
       "      <th>request ip</th>\n",
       "    </tr>\n",
       "    <tr>\n",
       "      <th>ui layout</th>\n",
       "      <th>site id</th>\n",
       "      <th></th>\n",
       "      <th></th>\n",
       "    </tr>\n",
       "  </thead>\n",
       "  <tbody>\n",
       "    <tr>\n",
       "      <th rowspan=\"5\" valign=\"top\">\"SPLASH\"</th>\n",
       "      <th>cbea541094fe44e6a0259003896f9702</th>\n",
       "      <td>13826</td>\n",
       "      <td>13826</td>\n",
       "    </tr>\n",
       "    <tr>\n",
       "      <th>0c087724288e44609c8256187beb240a</th>\n",
       "      <td>12870</td>\n",
       "      <td>12870</td>\n",
       "    </tr>\n",
       "    <tr>\n",
       "      <th>bc8f49065a80497d98936e057c4aaa04</th>\n",
       "      <td>12626</td>\n",
       "      <td>12626</td>\n",
       "    </tr>\n",
       "    <tr>\n",
       "      <th>9e310a13a4d9460b8981cea6c1f94d11</th>\n",
       "      <td>12483</td>\n",
       "      <td>12483</td>\n",
       "    </tr>\n",
       "    <tr>\n",
       "      <th>8536c26ff08343dca69c579ce97921f3</th>\n",
       "      <td>12434</td>\n",
       "      <td>12434</td>\n",
       "    </tr>\n",
       "  </tbody>\n",
       "</table>\n",
       "</div>"
      ],
      "text/plain": [
       "                                            impression id  request ip\n",
       "ui layout site id                                                    \n",
       "\"SPLASH\"  cbea541094fe44e6a0259003896f9702          13826       13826\n",
       "          0c087724288e44609c8256187beb240a          12870       12870\n",
       "          bc8f49065a80497d98936e057c4aaa04          12626       12626\n",
       "          9e310a13a4d9460b8981cea6c1f94d11          12483       12483\n",
       "          8536c26ff08343dca69c579ce97921f3          12434       12434"
      ]
     },
     "execution_count": 53,
     "metadata": {},
     "output_type": "execute_result"
    }
   ],
   "source": [
    "df.groupby(['ui layout','site id'])['impression id','request ip'].count().sort_values(by='impression id', ascending=False).head()"
   ]
  },
  {
   "cell_type": "code",
   "execution_count": 54,
   "metadata": {
    "collapsed": false
   },
   "outputs": [
    {
     "data": {
      "text/html": [
       "<div>\n",
       "<table border=\"1\" class=\"dataframe\">\n",
       "  <thead>\n",
       "    <tr style=\"text-align: right;\">\n",
       "      <th></th>\n",
       "      <th>impression id</th>\n",
       "      <th>request ip</th>\n",
       "    </tr>\n",
       "    <tr>\n",
       "      <th>ui layout</th>\n",
       "      <th></th>\n",
       "      <th></th>\n",
       "    </tr>\n",
       "  </thead>\n",
       "  <tbody>\n",
       "    <tr>\n",
       "      <th>\"SPLASH\"</th>\n",
       "      <td>576826</td>\n",
       "      <td>576826</td>\n",
       "    </tr>\n",
       "    <tr>\n",
       "      <th>\"FEED\"</th>\n",
       "      <td>423174</td>\n",
       "      <td>423174</td>\n",
       "    </tr>\n",
       "  </tbody>\n",
       "</table>\n",
       "</div>"
      ],
      "text/plain": [
       "           impression id  request ip\n",
       "ui layout                           \n",
       "\"SPLASH\"          576826      576826\n",
       "\"FEED\"            423174      423174"
      ]
     },
     "execution_count": 54,
     "metadata": {},
     "output_type": "execute_result"
    }
   ],
   "source": [
    "df.groupby(['ui layout'])['impression id','request ip'].count().sort_values(by='impression id', ascending=False)"
   ]
  },
  {
   "cell_type": "code",
   "execution_count": 55,
   "metadata": {
    "collapsed": false
   },
   "outputs": [],
   "source": [
    "grouped=df.groupby(['ui layout'])['impression id','request ip']"
   ]
  },
  {
   "cell_type": "code",
   "execution_count": 56,
   "metadata": {
    "collapsed": false
   },
   "outputs": [
    {
     "data": {
      "text/plain": [
       "<pandas.core.groupby.DataFrameGroupBy object at 0x142cac950>"
      ]
     },
     "execution_count": 56,
     "metadata": {},
     "output_type": "execute_result"
    }
   ],
   "source": [
    "grouped"
   ]
  },
  {
   "cell_type": "code",
   "execution_count": 58,
   "metadata": {
    "collapsed": false
   },
   "outputs": [
    {
     "data": {
      "text/html": [
       "<div>\n",
       "<table border=\"1\" class=\"dataframe\">\n",
       "  <thead>\n",
       "    <tr style=\"text-align: right;\">\n",
       "      <th></th>\n",
       "      <th>request ip</th>\n",
       "      <th>impression id</th>\n",
       "    </tr>\n",
       "    <tr>\n",
       "      <th>ui layout</th>\n",
       "      <th></th>\n",
       "      <th></th>\n",
       "    </tr>\n",
       "  </thead>\n",
       "  <tbody>\n",
       "    <tr>\n",
       "      <th>\"FEED\"</th>\n",
       "      <td>423174</td>\n",
       "      <td>423174</td>\n",
       "    </tr>\n",
       "    <tr>\n",
       "      <th>\"SPLASH\"</th>\n",
       "      <td>576826</td>\n",
       "      <td>576826</td>\n",
       "    </tr>\n",
       "  </tbody>\n",
       "</table>\n",
       "</div>"
      ],
      "text/plain": [
       "           request ip  impression id\n",
       "ui layout                           \n",
       "\"FEED\"         423174         423174\n",
       "\"SPLASH\"       576826         576826"
      ]
     },
     "execution_count": 58,
     "metadata": {},
     "output_type": "execute_result"
    }
   ],
   "source": [
    "grouped.agg({'impression id':'size','request ip':'size'})"
   ]
  },
  {
   "cell_type": "code",
   "execution_count": 59,
   "metadata": {
    "collapsed": false
   },
   "outputs": [
    {
     "data": {
      "text/html": [
       "<div>\n",
       "<table border=\"1\" class=\"dataframe\">\n",
       "  <thead>\n",
       "    <tr style=\"text-align: right;\">\n",
       "      <th></th>\n",
       "      <th>request ip</th>\n",
       "      <th>impression id</th>\n",
       "    </tr>\n",
       "    <tr>\n",
       "      <th>ui layout</th>\n",
       "      <th></th>\n",
       "      <th></th>\n",
       "    </tr>\n",
       "  </thead>\n",
       "  <tbody>\n",
       "    <tr>\n",
       "      <th>\"FEED\"</th>\n",
       "      <td>423174</td>\n",
       "      <td>423174</td>\n",
       "    </tr>\n",
       "    <tr>\n",
       "      <th>\"SPLASH\"</th>\n",
       "      <td>576826</td>\n",
       "      <td>576826</td>\n",
       "    </tr>\n",
       "  </tbody>\n",
       "</table>\n",
       "</div>"
      ],
      "text/plain": [
       "           request ip  impression id\n",
       "ui layout                           \n",
       "\"FEED\"         423174         423174\n",
       "\"SPLASH\"       576826         576826"
      ]
     },
     "execution_count": 59,
     "metadata": {},
     "output_type": "execute_result"
    }
   ],
   "source": [
    "grouped.agg({'impression id':'count','request ip':'count'})"
   ]
  },
  {
   "cell_type": "code",
   "execution_count": 66,
   "metadata": {
    "collapsed": false
   },
   "outputs": [],
   "source": [
    "graph=grouped.agg({'impression id':'count','request ip':'count'}).sort_values(by='impression id', ascending=False)"
   ]
  },
  {
   "cell_type": "code",
   "execution_count": 67,
   "metadata": {
    "collapsed": false
   },
   "outputs": [],
   "source": [
    "#grouped.agg([np.mean, np.std]) #To apply multiple methods"
   ]
  },
  {
   "cell_type": "code",
   "execution_count": 90,
   "metadata": {
    "collapsed": false
   },
   "outputs": [],
   "source": [
    "import matplotlib\n",
    "import matplotlib.pyplot as plt\n",
    "%matplotlib inline"
   ]
  },
  {
   "cell_type": "code",
   "execution_count": 107,
   "metadata": {
    "collapsed": false
   },
   "outputs": [
    {
     "data": {
      "text/plain": [
       "<matplotlib.axes._subplots.AxesSubplot at 0x124770b90>"
      ]
     },
     "execution_count": 107,
     "metadata": {},
     "output_type": "execute_result"
    },
    {
     "data": {
      "image/png": "[encoded data removed]",
      "text/plain": [
       "<matplotlib.figure.Figure at 0x12588cfd0>"
      ]
     },
     "metadata": {},
     "output_type": "display_data"
    }
   ],
   "source": [
    "graph.plot.area()"
   ]
  },
  {
   "cell_type": "code",
   "execution_count": 111,
   "metadata": {
    "collapsed": false
   },
   "outputs": [],
   "source": [
    "sub=df[df['site id']=='045cd9242bf74e528eccb1b11f8c1cfa']"
   ]
  },
  {
   "cell_type": "code",
   "execution_count": 134,
   "metadata": {
    "collapsed": false
   },
   "outputs": [
    {
     "data": {
      "text/html": [
       "<div>\n",
       "<table border=\"1\" class=\"dataframe\">\n",
       "  <thead>\n",
       "    <tr style=\"text-align: right;\">\n",
       "      <th></th>\n",
       "      <th>site id</th>\n",
       "      <th>request uid</th>\n",
       "      <th>request ip</th>\n",
       "      <th>beacon time</th>\n",
       "      <th>click time</th>\n",
       "      <th>click uid</th>\n",
       "      <th>click x real ip</th>\n",
       "      <th>placement type</th>\n",
       "      <th>ui layout</th>\n",
       "      <th>impression id</th>\n",
       "    </tr>\n",
       "  </thead>\n",
       "  <tbody>\n",
       "    <tr>\n",
       "      <th>0</th>\n",
       "      <td>045cd9242bf74e528eccb1b11f8c1cfa</td>\n",
       "      <td>0ba767b2a263f1000de6cbaf11dbfb7cf609f428</td>\n",
       "      <td>180.123.170.133</td>\n",
       "      <td>2017-12-30 05:40:20</td>\n",
       "      <td>2017-12-30 05:40:25</td>\n",
       "      <td>0ba767b2a263f1000de6cbaf11dbfb7cf609f428</td>\n",
       "      <td>180.123.170.133</td>\n",
       "      <td>NATIVE</td>\n",
       "      <td>\"FEED\"</td>\n",
       "      <td>a5eed423-0160-1000-d880-01af69c900b6</td>\n",
       "    </tr>\n",
       "    <tr>\n",
       "      <th>1</th>\n",
       "      <td>045cd9242bf74e528eccb1b11f8c1cfa</td>\n",
       "      <td>17214fbcee6ba5f289b920359b29f68df779a7dc</td>\n",
       "      <td>120.37.154.162</td>\n",
       "      <td>2017-12-31 18:16:49</td>\n",
       "      <td>2017-12-31 18:17:26</td>\n",
       "      <td>17214fbcee6ba5f289b920359b29f68df779a7dc</td>\n",
       "      <td>120.37.154.162</td>\n",
       "      <td>NATIVE</td>\n",
       "      <td>\"FEED\"</td>\n",
       "      <td>adca3824-0160-1000-ea80-003069c900b3</td>\n",
       "    </tr>\n",
       "  </tbody>\n",
       "</table>\n",
       "</div>"
      ],
      "text/plain": [
       "                            site id                               request uid  \\\n",
       "0  045cd9242bf74e528eccb1b11f8c1cfa  0ba767b2a263f1000de6cbaf11dbfb7cf609f428   \n",
       "1  045cd9242bf74e528eccb1b11f8c1cfa  17214fbcee6ba5f289b920359b29f68df779a7dc   \n",
       "\n",
       "        request ip          beacon time           click time  \\\n",
       "0  180.123.170.133  2017-12-30 05:40:20  2017-12-30 05:40:25   \n",
       "1   120.37.154.162  2017-12-31 18:16:49  2017-12-31 18:17:26   \n",
       "\n",
       "                                  click uid  click x real ip placement type  \\\n",
       "0  0ba767b2a263f1000de6cbaf11dbfb7cf609f428  180.123.170.133         NATIVE   \n",
       "1  17214fbcee6ba5f289b920359b29f68df779a7dc   120.37.154.162         NATIVE   \n",
       "\n",
       "  ui layout                         impression id  \n",
       "0    \"FEED\"  a5eed423-0160-1000-d880-01af69c900b6  \n",
       "1    \"FEED\"  adca3824-0160-1000-ea80-003069c900b3  "
      ]
     },
     "execution_count": 134,
     "metadata": {},
     "output_type": "execute_result"
    }
   ],
   "source": [
    "sub.iloc[0:2,:10]"
   ]
  },
  {
   "cell_type": "code",
   "execution_count": 138,
   "metadata": {
    "collapsed": false
   },
   "outputs": [
    {
     "data": {
      "text/html": [
       "<div>\n",
       "<table border=\"1\" class=\"dataframe\">\n",
       "  <thead>\n",
       "    <tr style=\"text-align: right;\">\n",
       "      <th></th>\n",
       "      <th>request uid</th>\n",
       "      <th>request ip</th>\n",
       "    </tr>\n",
       "  </thead>\n",
       "  <tbody>\n",
       "    <tr>\n",
       "      <th>0</th>\n",
       "      <td>0ba767b2a263f1000de6cbaf11dbfb7cf609f428</td>\n",
       "      <td>180.123.170.133</td>\n",
       "    </tr>\n",
       "    <tr>\n",
       "      <th>1</th>\n",
       "      <td>17214fbcee6ba5f289b920359b29f68df779a7dc</td>\n",
       "      <td>120.37.154.162</td>\n",
       "    </tr>\n",
       "    <tr>\n",
       "      <th>2</th>\n",
       "      <td>39624917464cc442960c6a6f34df1fc21a3f9d8b</td>\n",
       "      <td>36.149.207.147</td>\n",
       "    </tr>\n",
       "    <tr>\n",
       "      <th>3</th>\n",
       "      <td>3e100c63144e76750ab1efedf37c333bba4e53b0</td>\n",
       "      <td>220.189.96.21</td>\n",
       "    </tr>\n",
       "    <tr>\n",
       "      <th>4</th>\n",
       "      <td>60639839376dca4d475ae2e585ec21930af04c7a</td>\n",
       "      <td>223.96.237.202</td>\n",
       "    </tr>\n",
       "  </tbody>\n",
       "</table>\n",
       "</div>"
      ],
      "text/plain": [
       "                                request uid       request ip\n",
       "0  0ba767b2a263f1000de6cbaf11dbfb7cf609f428  180.123.170.133\n",
       "1  17214fbcee6ba5f289b920359b29f68df779a7dc   120.37.154.162\n",
       "2  39624917464cc442960c6a6f34df1fc21a3f9d8b   36.149.207.147\n",
       "3  3e100c63144e76750ab1efedf37c333bba4e53b0    220.189.96.21\n",
       "4  60639839376dca4d475ae2e585ec21930af04c7a   223.96.237.202"
      ]
     },
     "execution_count": 138,
     "metadata": {},
     "output_type": "execute_result"
    }
   ],
   "source": [
    "sub.loc[df['site id']=='045cd9242bf74e528eccb1b11f8c1cfa',['request uid','request ip']].head()"
   ]
  },
  {
   "cell_type": "code",
   "execution_count": 151,
   "metadata": {
    "collapsed": false
   },
   "outputs": [
    {
     "data": {
      "text/plain": [
       "3"
      ]
     },
     "execution_count": 151,
     "metadata": {},
     "output_type": "execute_result"
    }
   ],
   "source": [
    "len(df[df['request uid'] == '0ba767b2a263f1000de6cbaf11dbfb7cf609f428'])"
   ]
  },
  {
   "cell_type": "code",
   "execution_count": 154,
   "metadata": {
    "collapsed": false
   },
   "outputs": [
    {
     "data": {
      "text/html": [
       "<div>\n",
       "<table border=\"1\" class=\"dataframe\">\n",
       "  <thead>\n",
       "    <tr style=\"text-align: right;\">\n",
       "      <th></th>\n",
       "      <th>request ip</th>\n",
       "      <th>click time</th>\n",
       "    </tr>\n",
       "  </thead>\n",
       "  <tbody>\n",
       "    <tr>\n",
       "      <th>0</th>\n",
       "      <td>180.123.170.133</td>\n",
       "      <td>2017-12-30 05:40:25</td>\n",
       "    </tr>\n",
       "    <tr>\n",
       "      <th>581212</th>\n",
       "      <td>113.82.236.36</td>\n",
       "      <td>2017-12-31 00:41:46</td>\n",
       "    </tr>\n",
       "    <tr>\n",
       "      <th>717210</th>\n",
       "      <td>113.251.51.71</td>\n",
       "      <td>2017-12-28 18:19:10</td>\n",
       "    </tr>\n",
       "  </tbody>\n",
       "</table>\n",
       "</div>"
      ],
      "text/plain": [
       "             request ip           click time\n",
       "0       180.123.170.133  2017-12-30 05:40:25\n",
       "581212    113.82.236.36  2017-12-31 00:41:46\n",
       "717210    113.251.51.71  2017-12-28 18:19:10"
      ]
     },
     "execution_count": 154,
     "metadata": {},
     "output_type": "execute_result"
    }
   ],
   "source": [
    "#loc can accept boolean numbers, here all true value will be selected\n",
    "df.loc[df['request uid'] == '0ba767b2a263f1000de6cbaf11dbfb7cf609f428',['request ip', 'click time']]"
   ]
  },
  {
   "cell_type": "code",
   "execution_count": 161,
   "metadata": {
    "collapsed": false
   },
   "outputs": [
    {
     "data": {
      "text/plain": [
       "pandas.core.series.Series"
      ]
     },
     "execution_count": 161,
     "metadata": {},
     "output_type": "execute_result"
    }
   ],
   "source": [
    "type(df['request uid'] == '0ba767b2a263f1000de6cbaf11dbfb7cf609f428')"
   ]
  },
  {
   "cell_type": "code",
   "execution_count": 159,
   "metadata": {
    "collapsed": false
   },
   "outputs": [
    {
     "data": {
      "text/plain": [
       "pandas.core.frame.DataFrame"
      ]
     },
     "execution_count": 159,
     "metadata": {},
     "output_type": "execute_result"
    }
   ],
   "source": [
    "type(df[df['request uid'] == '0ba767b2a263f1000de6cbaf11dbfb7cf609f428'])"
   ]
  },
  {
   "cell_type": "code",
   "execution_count": 165,
   "metadata": {
    "collapsed": false
   },
   "outputs": [],
   "source": [
    "#df['request uid'] == '0ba767b2a263f1000de6cbaf11dbfb7cf609f428'"
   ]
  },
  {
   "cell_type": "code",
   "execution_count": 178,
   "metadata": {
    "collapsed": false
   },
   "outputs": [
    {
     "data": {
      "text/html": [
       "<div>\n",
       "<table border=\"1\" class=\"dataframe\">\n",
       "  <thead>\n",
       "    <tr style=\"text-align: right;\">\n",
       "      <th></th>\n",
       "      <th>site id</th>\n",
       "      <th>request uid</th>\n",
       "      <th>request ip</th>\n",
       "    </tr>\n",
       "  </thead>\n",
       "  <tbody>\n",
       "    <tr>\n",
       "      <th>0</th>\n",
       "      <td>045cd9242bf74e528eccb1b11f8c1cfa</td>\n",
       "      <td>0ba767b2a263f1000de6cbaf11dbfb7cf609f428</td>\n",
       "      <td>180.123.170.133</td>\n",
       "    </tr>\n",
       "    <tr>\n",
       "      <th>581212</th>\n",
       "      <td>045cd9242bf74e528eccb1b11f8c1cfa</td>\n",
       "      <td>0ba767b2a263f1000de6cbaf11dbfb7cf609f428</td>\n",
       "      <td>113.82.236.36</td>\n",
       "    </tr>\n",
       "    <tr>\n",
       "      <th>717210</th>\n",
       "      <td>72334df4f3154314b3fd08acb2edbab3</td>\n",
       "      <td>0ba767b2a263f1000de6cbaf11dbfb7cf609f428</td>\n",
       "      <td>113.251.51.71</td>\n",
       "    </tr>\n",
       "  </tbody>\n",
       "</table>\n",
       "</div>"
      ],
      "text/plain": [
       "                                 site id  \\\n",
       "0       045cd9242bf74e528eccb1b11f8c1cfa   \n",
       "581212  045cd9242bf74e528eccb1b11f8c1cfa   \n",
       "717210  72334df4f3154314b3fd08acb2edbab3   \n",
       "\n",
       "                                     request uid       request ip  \n",
       "0       0ba767b2a263f1000de6cbaf11dbfb7cf609f428  180.123.170.133  \n",
       "581212  0ba767b2a263f1000de6cbaf11dbfb7cf609f428    113.82.236.36  \n",
       "717210  0ba767b2a263f1000de6cbaf11dbfb7cf609f428    113.251.51.71  "
      ]
     },
     "execution_count": 178,
     "metadata": {},
     "output_type": "execute_result"
    }
   ],
   "source": [
    "df[df['request uid'] == '0ba767b2a263f1000de6cbaf11dbfb7cf609f428'].loc[:,:'request ip']"
   ]
  },
  {
   "cell_type": "code",
   "execution_count": 179,
   "metadata": {
    "collapsed": false
   },
   "outputs": [
    {
     "data": {
      "text/plain": [
       "Index([u'site id', u'request uid', u'request ip', u'beacon time',\n",
       "       u'click time', u'click uid', u'click x real ip', u'placement type',\n",
       "       u'ui layout', u'impression id'],\n",
       "      dtype='object')"
      ]
     },
     "execution_count": 179,
     "metadata": {},
     "output_type": "execute_result"
    }
   ],
   "source": [
    "df.columns"
   ]
  },
  {
   "cell_type": "code",
   "execution_count": 198,
   "metadata": {
    "collapsed": false
   },
   "outputs": [],
   "source": [
    "temp=df"
   ]
  },
  {
   "cell_type": "code",
   "execution_count": 204,
   "metadata": {
    "collapsed": false
   },
   "outputs": [],
   "source": [
    "m1=temp.iloc[0:10,0:3]"
   ]
  },
  {
   "cell_type": "code",
   "execution_count": 205,
   "metadata": {
    "collapsed": false
   },
   "outputs": [],
   "source": [
    "m2=temp.iloc[5:15,0:3]"
   ]
  },
  {
   "cell_type": "code",
   "execution_count": 225,
   "metadata": {
    "collapsed": false
   },
   "outputs": [],
   "source": [
    "merged=m1.merge(m2, how='outer', on='request uid')"
   ]
  },
  {
   "cell_type": "code",
   "execution_count": 238,
   "metadata": {
    "collapsed": false
   },
   "outputs": [
    {
     "data": {
      "text/html": [
       "<div>\n",
       "<table border=\"1\" class=\"dataframe\">\n",
       "  <thead>\n",
       "    <tr style=\"text-align: right;\">\n",
       "      <th></th>\n",
       "      <th>site id_x</th>\n",
       "      <th>request uid</th>\n",
       "      <th>request ip_x</th>\n",
       "      <th>site id_y</th>\n",
       "      <th>request ip_y</th>\n",
       "    </tr>\n",
       "  </thead>\n",
       "  <tbody>\n",
       "    <tr>\n",
       "      <th>5</th>\n",
       "      <td>045cd9242bf74e528eccb1b11f8c1cfa</td>\n",
       "      <td>7a4b5e5a0ec629697306dbe4796d336a059261a7</td>\n",
       "      <td>112.41.13.86</td>\n",
       "      <td>045cd9242bf74e528eccb1b11f8c1cfa</td>\n",
       "      <td>112.41.13.86</td>\n",
       "    </tr>\n",
       "    <tr>\n",
       "      <th>6</th>\n",
       "      <td>045cd9242bf74e528eccb1b11f8c1cfa</td>\n",
       "      <td>a0b808358de3bc3efe9e913c2960828d8968a471</td>\n",
       "      <td>119.251.9.31</td>\n",
       "      <td>045cd9242bf74e528eccb1b11f8c1cfa</td>\n",
       "      <td>119.251.9.31</td>\n",
       "    </tr>\n",
       "    <tr>\n",
       "      <th>7</th>\n",
       "      <td>045cd9242bf74e528eccb1b11f8c1cfa</td>\n",
       "      <td>c4cc5b6cb116a0899cd6b446f01446512e131c46</td>\n",
       "      <td>180.143.203.121</td>\n",
       "      <td>045cd9242bf74e528eccb1b11f8c1cfa</td>\n",
       "      <td>180.143.203.121</td>\n",
       "    </tr>\n",
       "    <tr>\n",
       "      <th>8</th>\n",
       "      <td>045cd9242bf74e528eccb1b11f8c1cfa</td>\n",
       "      <td>e74aa50335b579c68cdef2bd61ac884e5b82b699</td>\n",
       "      <td>120.192.34.195</td>\n",
       "      <td>045cd9242bf74e528eccb1b11f8c1cfa</td>\n",
       "      <td>120.192.34.195</td>\n",
       "    </tr>\n",
       "    <tr>\n",
       "      <th>9</th>\n",
       "      <td>047b4475e3664b7886de2b879a1923ab</td>\n",
       "      <td>07c311731c0742c1afc0725e066da3f57be12674</td>\n",
       "      <td>118.119.246.101</td>\n",
       "      <td>047b4475e3664b7886de2b879a1923ab</td>\n",
       "      <td>118.119.246.101</td>\n",
       "    </tr>\n",
       "  </tbody>\n",
       "</table>\n",
       "</div>"
      ],
      "text/plain": [
       "                          site id_x                               request uid  \\\n",
       "5  045cd9242bf74e528eccb1b11f8c1cfa  7a4b5e5a0ec629697306dbe4796d336a059261a7   \n",
       "6  045cd9242bf74e528eccb1b11f8c1cfa  a0b808358de3bc3efe9e913c2960828d8968a471   \n",
       "7  045cd9242bf74e528eccb1b11f8c1cfa  c4cc5b6cb116a0899cd6b446f01446512e131c46   \n",
       "8  045cd9242bf74e528eccb1b11f8c1cfa  e74aa50335b579c68cdef2bd61ac884e5b82b699   \n",
       "9  047b4475e3664b7886de2b879a1923ab  07c311731c0742c1afc0725e066da3f57be12674   \n",
       "\n",
       "      request ip_x                         site id_y     request ip_y  \n",
       "5     112.41.13.86  045cd9242bf74e528eccb1b11f8c1cfa     112.41.13.86  \n",
       "6     119.251.9.31  045cd9242bf74e528eccb1b11f8c1cfa     119.251.9.31  \n",
       "7  180.143.203.121  045cd9242bf74e528eccb1b11f8c1cfa  180.143.203.121  \n",
       "8   120.192.34.195  045cd9242bf74e528eccb1b11f8c1cfa   120.192.34.195  \n",
       "9  118.119.246.101  047b4475e3664b7886de2b879a1923ab  118.119.246.101  "
      ]
     },
     "execution_count": 238,
     "metadata": {},
     "output_type": "execute_result"
    }
   ],
   "source": [
    "merged[merged['site id_x'].notnull() & merged['site id_y'].notnull()]"
   ]
  },
  {
   "cell_type": "code",
   "execution_count": 243,
   "metadata": {
    "collapsed": false
   },
   "outputs": [
    {
     "data": {
      "text/html": [
       "<div>\n",
       "<table border=\"1\" class=\"dataframe\">\n",
       "  <thead>\n",
       "    <tr style=\"text-align: right;\">\n",
       "      <th></th>\n",
       "      <th>site id_x</th>\n",
       "      <th>request uid</th>\n",
       "      <th>request ip_x</th>\n",
       "      <th>site id_y</th>\n",
       "      <th>request ip_y</th>\n",
       "    </tr>\n",
       "  </thead>\n",
       "  <tbody>\n",
       "    <tr>\n",
       "      <th>0</th>\n",
       "      <td>045cd9242bf74e528eccb1b11f8c1cfa</td>\n",
       "      <td>7a4b5e5a0ec629697306dbe4796d336a059261a7</td>\n",
       "      <td>112.41.13.86</td>\n",
       "      <td>045cd9242bf74e528eccb1b11f8c1cfa</td>\n",
       "      <td>112.41.13.86</td>\n",
       "    </tr>\n",
       "    <tr>\n",
       "      <th>1</th>\n",
       "      <td>045cd9242bf74e528eccb1b11f8c1cfa</td>\n",
       "      <td>a0b808358de3bc3efe9e913c2960828d8968a471</td>\n",
       "      <td>119.251.9.31</td>\n",
       "      <td>045cd9242bf74e528eccb1b11f8c1cfa</td>\n",
       "      <td>119.251.9.31</td>\n",
       "    </tr>\n",
       "    <tr>\n",
       "      <th>2</th>\n",
       "      <td>045cd9242bf74e528eccb1b11f8c1cfa</td>\n",
       "      <td>c4cc5b6cb116a0899cd6b446f01446512e131c46</td>\n",
       "      <td>180.143.203.121</td>\n",
       "      <td>045cd9242bf74e528eccb1b11f8c1cfa</td>\n",
       "      <td>180.143.203.121</td>\n",
       "    </tr>\n",
       "    <tr>\n",
       "      <th>3</th>\n",
       "      <td>045cd9242bf74e528eccb1b11f8c1cfa</td>\n",
       "      <td>e74aa50335b579c68cdef2bd61ac884e5b82b699</td>\n",
       "      <td>120.192.34.195</td>\n",
       "      <td>045cd9242bf74e528eccb1b11f8c1cfa</td>\n",
       "      <td>120.192.34.195</td>\n",
       "    </tr>\n",
       "    <tr>\n",
       "      <th>4</th>\n",
       "      <td>047b4475e3664b7886de2b879a1923ab</td>\n",
       "      <td>07c311731c0742c1afc0725e066da3f57be12674</td>\n",
       "      <td>118.119.246.101</td>\n",
       "      <td>047b4475e3664b7886de2b879a1923ab</td>\n",
       "      <td>118.119.246.101</td>\n",
       "    </tr>\n",
       "  </tbody>\n",
       "</table>\n",
       "</div>"
      ],
      "text/plain": [
       "                          site id_x                               request uid  \\\n",
       "0  045cd9242bf74e528eccb1b11f8c1cfa  7a4b5e5a0ec629697306dbe4796d336a059261a7   \n",
       "1  045cd9242bf74e528eccb1b11f8c1cfa  a0b808358de3bc3efe9e913c2960828d8968a471   \n",
       "2  045cd9242bf74e528eccb1b11f8c1cfa  c4cc5b6cb116a0899cd6b446f01446512e131c46   \n",
       "3  045cd9242bf74e528eccb1b11f8c1cfa  e74aa50335b579c68cdef2bd61ac884e5b82b699   \n",
       "4  047b4475e3664b7886de2b879a1923ab  07c311731c0742c1afc0725e066da3f57be12674   \n",
       "\n",
       "      request ip_x                         site id_y     request ip_y  \n",
       "0     112.41.13.86  045cd9242bf74e528eccb1b11f8c1cfa     112.41.13.86  \n",
       "1     119.251.9.31  045cd9242bf74e528eccb1b11f8c1cfa     119.251.9.31  \n",
       "2  180.143.203.121  045cd9242bf74e528eccb1b11f8c1cfa  180.143.203.121  \n",
       "3   120.192.34.195  045cd9242bf74e528eccb1b11f8c1cfa   120.192.34.195  \n",
       "4  118.119.246.101  047b4475e3664b7886de2b879a1923ab  118.119.246.101  "
      ]
     },
     "execution_count": 243,
     "metadata": {},
     "output_type": "execute_result"
    }
   ],
   "source": [
    "m1.merge(m2, how='inner', on='request uid')"
   ]
  },
  {
   "cell_type": "code",
   "execution_count": 244,
   "metadata": {
    "collapsed": true
   },
   "outputs": [],
   "source": [
    "fillna=m1.merge(m2, how='outer', on='request uid')"
   ]
  },
  {
   "cell_type": "code",
   "execution_count": 249,
   "metadata": {
    "collapsed": false
   },
   "outputs": [],
   "source": [
    "src=fillna.fillna('akon').head()"
   ]
  },
  {
   "cell_type": "code",
   "execution_count": 253,
   "metadata": {
    "collapsed": false
   },
   "outputs": [],
   "source": [
    "src.to_csv('akon.csv', index=False)"
   ]
  },
  {
   "cell_type": "code",
   "execution_count": 254,
   "metadata": {
    "collapsed": false
   },
   "outputs": [
    {
     "name": "stdout",
     "output_type": "stream",
     "text": [
      "/Users/akon.ao/Downloads/test\r\n"
     ]
    }
   ],
   "source": [
    "!pwd"
   ]
  },
  {
   "cell_type": "code",
   "execution_count": 255,
   "metadata": {
    "collapsed": false
   },
   "outputs": [
    {
     "data": {
      "text/html": [
       "<div>\n",
       "<table border=\"1\" class=\"dataframe\">\n",
       "  <thead>\n",
       "    <tr style=\"text-align: right;\">\n",
       "      <th></th>\n",
       "      <th>site id_x</th>\n",
       "      <th>request uid</th>\n",
       "      <th>request ip_x</th>\n",
       "      <th>site id_y</th>\n",
       "      <th>request ip_y</th>\n",
       "    </tr>\n",
       "  </thead>\n",
       "  <tbody>\n",
       "    <tr>\n",
       "      <th>0</th>\n",
       "      <td>045cd9242bf74e528eccb1b11f8c1cfa</td>\n",
       "      <td>0ba767b2a263f1000de6cbaf11dbfb7cf609f428</td>\n",
       "      <td>180.123.170.133</td>\n",
       "      <td>akon</td>\n",
       "      <td>akon</td>\n",
       "    </tr>\n",
       "    <tr>\n",
       "      <th>1</th>\n",
       "      <td>045cd9242bf74e528eccb1b11f8c1cfa</td>\n",
       "      <td>17214fbcee6ba5f289b920359b29f68df779a7dc</td>\n",
       "      <td>120.37.154.162</td>\n",
       "      <td>akon</td>\n",
       "      <td>akon</td>\n",
       "    </tr>\n",
       "    <tr>\n",
       "      <th>2</th>\n",
       "      <td>045cd9242bf74e528eccb1b11f8c1cfa</td>\n",
       "      <td>39624917464cc442960c6a6f34df1fc21a3f9d8b</td>\n",
       "      <td>36.149.207.147</td>\n",
       "      <td>akon</td>\n",
       "      <td>akon</td>\n",
       "    </tr>\n",
       "    <tr>\n",
       "      <th>3</th>\n",
       "      <td>045cd9242bf74e528eccb1b11f8c1cfa</td>\n",
       "      <td>3e100c63144e76750ab1efedf37c333bba4e53b0</td>\n",
       "      <td>220.189.96.21</td>\n",
       "      <td>akon</td>\n",
       "      <td>akon</td>\n",
       "    </tr>\n",
       "    <tr>\n",
       "      <th>4</th>\n",
       "      <td>045cd9242bf74e528eccb1b11f8c1cfa</td>\n",
       "      <td>60639839376dca4d475ae2e585ec21930af04c7a</td>\n",
       "      <td>223.96.237.202</td>\n",
       "      <td>akon</td>\n",
       "      <td>akon</td>\n",
       "    </tr>\n",
       "  </tbody>\n",
       "</table>\n",
       "</div>"
      ],
      "text/plain": [
       "                          site id_x                               request uid  \\\n",
       "0  045cd9242bf74e528eccb1b11f8c1cfa  0ba767b2a263f1000de6cbaf11dbfb7cf609f428   \n",
       "1  045cd9242bf74e528eccb1b11f8c1cfa  17214fbcee6ba5f289b920359b29f68df779a7dc   \n",
       "2  045cd9242bf74e528eccb1b11f8c1cfa  39624917464cc442960c6a6f34df1fc21a3f9d8b   \n",
       "3  045cd9242bf74e528eccb1b11f8c1cfa  3e100c63144e76750ab1efedf37c333bba4e53b0   \n",
       "4  045cd9242bf74e528eccb1b11f8c1cfa  60639839376dca4d475ae2e585ec21930af04c7a   \n",
       "\n",
       "      request ip_x site id_y request ip_y  \n",
       "0  180.123.170.133      akon         akon  \n",
       "1   120.37.154.162      akon         akon  \n",
       "2   36.149.207.147      akon         akon  \n",
       "3    220.189.96.21      akon         akon  \n",
       "4   223.96.237.202      akon         akon  "
      ]
     },
     "execution_count": 255,
     "metadata": {},
     "output_type": "execute_result"
    }
   ],
   "source": [
    "src"
   ]
  },
  {
   "cell_type": "code",
   "execution_count": null,
   "metadata": {
    "collapsed": true
   },
   "outputs": [],
   "source": []
  }
 ],
 "metadata": {
  "anaconda-cloud": {},
  "kernelspec": {
   "display_name": "Python [default]",
   "language": "python",
   "name": "python2"
  },
  "language_info": {
   "codemirror_mode": {
    "name": "ipython",
    "version": 2
   },
   "file_extension": ".py",
   "mimetype": "text/x-python",
   "name": "python",
   "nbconvert_exporter": "python",
   "pygments_lexer": "ipython2",
   "version": "2.7.12"
  }
 },
 "nbformat": 4,
 "nbformat_minor": 1
}
